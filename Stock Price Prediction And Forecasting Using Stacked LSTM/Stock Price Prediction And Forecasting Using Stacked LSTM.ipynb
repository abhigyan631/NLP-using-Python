{
 "cells": [
  {
   "cell_type": "code",
   "execution_count": null,
   "id": "5fe3d466",
   "metadata": {},
   "outputs": [],
   "source": [
    "#Keras and Tensorflow >2.0\n",
    "#https://github.com/krishnaik06/Stock-MArket-Forecasting/blob/master/Untitled.ipynb"
   ]
  },
  {
   "cell_type": "code",
   "execution_count": 2,
   "id": "f88f7201",
   "metadata": {},
   "outputs": [],
   "source": [
    "import pandas_datareader as pdr"
   ]
  },
  {
   "cell_type": "code",
   "execution_count": 5,
   "id": "a7f0f9dd",
   "metadata": {},
   "outputs": [],
   "source": [
    "df = pdr.get_data_tiingo('AAPL', api_key = '39baeb59e02c2aa470936ea12e7eed9699358c99')"
   ]
  },
  {
   "cell_type": "code",
   "execution_count": 6,
   "id": "25a21920",
   "metadata": {},
   "outputs": [],
   "source": [
    "df.to_csv('AAPL.csv')"
   ]
  },
  {
   "cell_type": "code",
   "execution_count": 1,
   "id": "ffacfb2a",
   "metadata": {},
   "outputs": [],
   "source": [
    "import pandas as pd"
   ]
  },
  {
   "cell_type": "code",
   "execution_count": 2,
   "id": "e3dbdbfa",
   "metadata": {},
   "outputs": [],
   "source": [
    "df = pd.read_csv('AAPL.csv')"
   ]
  },
  {
   "cell_type": "code",
   "execution_count": 3,
   "id": "5f4f7dbb",
   "metadata": {},
   "outputs": [
    {
     "data": {
      "text/html": [
       "<div>\n",
       "<style scoped>\n",
       "    .dataframe tbody tr th:only-of-type {\n",
       "        vertical-align: middle;\n",
       "    }\n",
       "\n",
       "    .dataframe tbody tr th {\n",
       "        vertical-align: top;\n",
       "    }\n",
       "\n",
       "    .dataframe thead th {\n",
       "        text-align: right;\n",
       "    }\n",
       "</style>\n",
       "<table border=\"1\" class=\"dataframe\">\n",
       "  <thead>\n",
       "    <tr style=\"text-align: right;\">\n",
       "      <th></th>\n",
       "      <th>symbol</th>\n",
       "      <th>date</th>\n",
       "      <th>close</th>\n",
       "      <th>high</th>\n",
       "      <th>low</th>\n",
       "      <th>open</th>\n",
       "      <th>volume</th>\n",
       "      <th>adjClose</th>\n",
       "      <th>adjHigh</th>\n",
       "      <th>adjLow</th>\n",
       "      <th>adjOpen</th>\n",
       "      <th>adjVolume</th>\n",
       "      <th>divCash</th>\n",
       "      <th>splitFactor</th>\n",
       "    </tr>\n",
       "  </thead>\n",
       "  <tbody>\n",
       "    <tr>\n",
       "      <th>0</th>\n",
       "      <td>AAPL</td>\n",
       "      <td>2017-04-05 00:00:00+00:00</td>\n",
       "      <td>144.02</td>\n",
       "      <td>145.4600</td>\n",
       "      <td>143.81</td>\n",
       "      <td>144.22</td>\n",
       "      <td>27717854</td>\n",
       "      <td>33.989271</td>\n",
       "      <td>34.329117</td>\n",
       "      <td>33.939710</td>\n",
       "      <td>34.036472</td>\n",
       "      <td>110871416</td>\n",
       "      <td>0.0</td>\n",
       "      <td>1.0</td>\n",
       "    </tr>\n",
       "    <tr>\n",
       "      <th>1</th>\n",
       "      <td>AAPL</td>\n",
       "      <td>2017-04-06 00:00:00+00:00</td>\n",
       "      <td>143.66</td>\n",
       "      <td>144.5200</td>\n",
       "      <td>143.45</td>\n",
       "      <td>144.29</td>\n",
       "      <td>21149034</td>\n",
       "      <td>33.904310</td>\n",
       "      <td>34.107273</td>\n",
       "      <td>33.854749</td>\n",
       "      <td>34.052992</td>\n",
       "      <td>84596136</td>\n",
       "      <td>0.0</td>\n",
       "      <td>1.0</td>\n",
       "    </tr>\n",
       "    <tr>\n",
       "      <th>2</th>\n",
       "      <td>AAPL</td>\n",
       "      <td>2017-04-07 00:00:00+00:00</td>\n",
       "      <td>143.34</td>\n",
       "      <td>144.1800</td>\n",
       "      <td>143.27</td>\n",
       "      <td>143.73</td>\n",
       "      <td>16658543</td>\n",
       "      <td>33.828788</td>\n",
       "      <td>34.027032</td>\n",
       "      <td>33.812268</td>\n",
       "      <td>33.920830</td>\n",
       "      <td>66634172</td>\n",
       "      <td>0.0</td>\n",
       "      <td>1.0</td>\n",
       "    </tr>\n",
       "    <tr>\n",
       "      <th>3</th>\n",
       "      <td>AAPL</td>\n",
       "      <td>2017-04-10 00:00:00+00:00</td>\n",
       "      <td>143.17</td>\n",
       "      <td>143.8792</td>\n",
       "      <td>142.90</td>\n",
       "      <td>143.60</td>\n",
       "      <td>18933397</td>\n",
       "      <td>33.788668</td>\n",
       "      <td>33.956042</td>\n",
       "      <td>33.724947</td>\n",
       "      <td>33.890149</td>\n",
       "      <td>75733588</td>\n",
       "      <td>0.0</td>\n",
       "      <td>1.0</td>\n",
       "    </tr>\n",
       "    <tr>\n",
       "      <th>4</th>\n",
       "      <td>AAPL</td>\n",
       "      <td>2017-04-11 00:00:00+00:00</td>\n",
       "      <td>141.63</td>\n",
       "      <td>143.3500</td>\n",
       "      <td>140.06</td>\n",
       "      <td>142.94</td>\n",
       "      <td>30379376</td>\n",
       "      <td>33.425222</td>\n",
       "      <td>33.831148</td>\n",
       "      <td>33.054696</td>\n",
       "      <td>33.734387</td>\n",
       "      <td>121517504</td>\n",
       "      <td>0.0</td>\n",
       "      <td>1.0</td>\n",
       "    </tr>\n",
       "  </tbody>\n",
       "</table>\n",
       "</div>"
      ],
      "text/plain": [
       "  symbol                       date   close      high     low    open  \\\n",
       "0   AAPL  2017-04-05 00:00:00+00:00  144.02  145.4600  143.81  144.22   \n",
       "1   AAPL  2017-04-06 00:00:00+00:00  143.66  144.5200  143.45  144.29   \n",
       "2   AAPL  2017-04-07 00:00:00+00:00  143.34  144.1800  143.27  143.73   \n",
       "3   AAPL  2017-04-10 00:00:00+00:00  143.17  143.8792  142.90  143.60   \n",
       "4   AAPL  2017-04-11 00:00:00+00:00  141.63  143.3500  140.06  142.94   \n",
       "\n",
       "     volume   adjClose    adjHigh     adjLow    adjOpen  adjVolume  divCash  \\\n",
       "0  27717854  33.989271  34.329117  33.939710  34.036472  110871416      0.0   \n",
       "1  21149034  33.904310  34.107273  33.854749  34.052992   84596136      0.0   \n",
       "2  16658543  33.828788  34.027032  33.812268  33.920830   66634172      0.0   \n",
       "3  18933397  33.788668  33.956042  33.724947  33.890149   75733588      0.0   \n",
       "4  30379376  33.425222  33.831148  33.054696  33.734387  121517504      0.0   \n",
       "\n",
       "   splitFactor  \n",
       "0          1.0  \n",
       "1          1.0  \n",
       "2          1.0  \n",
       "3          1.0  \n",
       "4          1.0  "
      ]
     },
     "execution_count": 3,
     "metadata": {},
     "output_type": "execute_result"
    }
   ],
   "source": [
    "df.head()"
   ]
  },
  {
   "cell_type": "code",
   "execution_count": 4,
   "id": "5170c44a",
   "metadata": {},
   "outputs": [],
   "source": [
    "df1 = df.reset_index()['close']"
   ]
  },
  {
   "cell_type": "code",
   "execution_count": 5,
   "id": "fbb25e2d",
   "metadata": {},
   "outputs": [
    {
     "data": {
      "text/plain": [
       "0       144.02\n",
       "1       143.66\n",
       "2       143.34\n",
       "3       143.17\n",
       "4       141.63\n",
       "         ...  \n",
       "1253    175.60\n",
       "1254    178.96\n",
       "1255    177.77\n",
       "1256    174.61\n",
       "1257    174.31\n",
       "Name: close, Length: 1258, dtype: float64"
      ]
     },
     "execution_count": 5,
     "metadata": {},
     "output_type": "execute_result"
    }
   ],
   "source": [
    "df1"
   ]
  },
  {
   "cell_type": "code",
   "execution_count": 6,
   "id": "1da0768b",
   "metadata": {},
   "outputs": [
    {
     "data": {
      "text/html": [
       "<div>\n",
       "<style scoped>\n",
       "    .dataframe tbody tr th:only-of-type {\n",
       "        vertical-align: middle;\n",
       "    }\n",
       "\n",
       "    .dataframe tbody tr th {\n",
       "        vertical-align: top;\n",
       "    }\n",
       "\n",
       "    .dataframe thead th {\n",
       "        text-align: right;\n",
       "    }\n",
       "</style>\n",
       "<table border=\"1\" class=\"dataframe\">\n",
       "  <thead>\n",
       "    <tr style=\"text-align: right;\">\n",
       "      <th></th>\n",
       "      <th>symbol</th>\n",
       "      <th>date</th>\n",
       "      <th>close</th>\n",
       "      <th>high</th>\n",
       "      <th>low</th>\n",
       "      <th>open</th>\n",
       "      <th>volume</th>\n",
       "      <th>adjClose</th>\n",
       "      <th>adjHigh</th>\n",
       "      <th>adjLow</th>\n",
       "      <th>adjOpen</th>\n",
       "      <th>adjVolume</th>\n",
       "      <th>divCash</th>\n",
       "      <th>splitFactor</th>\n",
       "    </tr>\n",
       "  </thead>\n",
       "  <tbody>\n",
       "    <tr>\n",
       "      <th>1253</th>\n",
       "      <td>AAPL</td>\n",
       "      <td>2022-03-28 00:00:00+00:00</td>\n",
       "      <td>175.60</td>\n",
       "      <td>175.73</td>\n",
       "      <td>172.00</td>\n",
       "      <td>172.17</td>\n",
       "      <td>90371916</td>\n",
       "      <td>175.60</td>\n",
       "      <td>175.73</td>\n",
       "      <td>172.00</td>\n",
       "      <td>172.17</td>\n",
       "      <td>90371916</td>\n",
       "      <td>0.0</td>\n",
       "      <td>1.0</td>\n",
       "    </tr>\n",
       "    <tr>\n",
       "      <th>1254</th>\n",
       "      <td>AAPL</td>\n",
       "      <td>2022-03-29 00:00:00+00:00</td>\n",
       "      <td>178.96</td>\n",
       "      <td>179.01</td>\n",
       "      <td>176.34</td>\n",
       "      <td>176.69</td>\n",
       "      <td>100589440</td>\n",
       "      <td>178.96</td>\n",
       "      <td>179.01</td>\n",
       "      <td>176.34</td>\n",
       "      <td>176.69</td>\n",
       "      <td>100589440</td>\n",
       "      <td>0.0</td>\n",
       "      <td>1.0</td>\n",
       "    </tr>\n",
       "    <tr>\n",
       "      <th>1255</th>\n",
       "      <td>AAPL</td>\n",
       "      <td>2022-03-30 00:00:00+00:00</td>\n",
       "      <td>177.77</td>\n",
       "      <td>179.61</td>\n",
       "      <td>176.70</td>\n",
       "      <td>178.55</td>\n",
       "      <td>92633154</td>\n",
       "      <td>177.77</td>\n",
       "      <td>179.61</td>\n",
       "      <td>176.70</td>\n",
       "      <td>178.55</td>\n",
       "      <td>92633154</td>\n",
       "      <td>0.0</td>\n",
       "      <td>1.0</td>\n",
       "    </tr>\n",
       "    <tr>\n",
       "      <th>1256</th>\n",
       "      <td>AAPL</td>\n",
       "      <td>2022-03-31 00:00:00+00:00</td>\n",
       "      <td>174.61</td>\n",
       "      <td>178.03</td>\n",
       "      <td>174.40</td>\n",
       "      <td>177.84</td>\n",
       "      <td>103049285</td>\n",
       "      <td>174.61</td>\n",
       "      <td>178.03</td>\n",
       "      <td>174.40</td>\n",
       "      <td>177.84</td>\n",
       "      <td>103049285</td>\n",
       "      <td>0.0</td>\n",
       "      <td>1.0</td>\n",
       "    </tr>\n",
       "    <tr>\n",
       "      <th>1257</th>\n",
       "      <td>AAPL</td>\n",
       "      <td>2022-04-01 00:00:00+00:00</td>\n",
       "      <td>174.31</td>\n",
       "      <td>174.88</td>\n",
       "      <td>171.94</td>\n",
       "      <td>174.03</td>\n",
       "      <td>78751328</td>\n",
       "      <td>174.31</td>\n",
       "      <td>174.88</td>\n",
       "      <td>171.94</td>\n",
       "      <td>174.03</td>\n",
       "      <td>78751328</td>\n",
       "      <td>0.0</td>\n",
       "      <td>1.0</td>\n",
       "    </tr>\n",
       "  </tbody>\n",
       "</table>\n",
       "</div>"
      ],
      "text/plain": [
       "     symbol                       date   close    high     low    open  \\\n",
       "1253   AAPL  2022-03-28 00:00:00+00:00  175.60  175.73  172.00  172.17   \n",
       "1254   AAPL  2022-03-29 00:00:00+00:00  178.96  179.01  176.34  176.69   \n",
       "1255   AAPL  2022-03-30 00:00:00+00:00  177.77  179.61  176.70  178.55   \n",
       "1256   AAPL  2022-03-31 00:00:00+00:00  174.61  178.03  174.40  177.84   \n",
       "1257   AAPL  2022-04-01 00:00:00+00:00  174.31  174.88  171.94  174.03   \n",
       "\n",
       "         volume  adjClose  adjHigh  adjLow  adjOpen  adjVolume  divCash  \\\n",
       "1253   90371916    175.60   175.73  172.00   172.17   90371916      0.0   \n",
       "1254  100589440    178.96   179.01  176.34   176.69  100589440      0.0   \n",
       "1255   92633154    177.77   179.61  176.70   178.55   92633154      0.0   \n",
       "1256  103049285    174.61   178.03  174.40   177.84  103049285      0.0   \n",
       "1257   78751328    174.31   174.88  171.94   174.03   78751328      0.0   \n",
       "\n",
       "      splitFactor  \n",
       "1253          1.0  \n",
       "1254          1.0  \n",
       "1255          1.0  \n",
       "1256          1.0  \n",
       "1257          1.0  "
      ]
     },
     "execution_count": 6,
     "metadata": {},
     "output_type": "execute_result"
    }
   ],
   "source": [
    "df.tail()"
   ]
  },
  {
   "cell_type": "code",
   "execution_count": 7,
   "id": "7c4dae66",
   "metadata": {},
   "outputs": [
    {
     "data": {
      "text/plain": [
       "(1258,)"
      ]
     },
     "execution_count": 7,
     "metadata": {},
     "output_type": "execute_result"
    }
   ],
   "source": [
    "df1.shape"
   ]
  },
  {
   "cell_type": "code",
   "execution_count": 9,
   "id": "f8d41492",
   "metadata": {},
   "outputs": [
    {
     "data": {
      "text/plain": [
       "[<matplotlib.lines.Line2D at 0x1ba7143ebe0>]"
      ]
     },
     "execution_count": 9,
     "metadata": {},
     "output_type": "execute_result"
    },
    {
     "data": {
      "image/png": "[encoded data removed]",
      "text/plain": [
       "<Figure size 432x288 with 1 Axes>"
      ]
     },
     "metadata": {},
     "output_type": "display_data"
    }
   ],
   "source": [
    "import matplotlib.pyplot as plt\n",
    "plt.plot(df1)"
   ]
  },
  {
   "cell_type": "code",
   "execution_count": 10,
   "id": "85ac6b1d",
   "metadata": {},
   "outputs": [],
   "source": [
    "import numpy as np"
   ]
  },
  {
   "cell_type": "code",
   "execution_count": 11,
   "id": "8a8eb69a",
   "metadata": {},
   "outputs": [],
   "source": [
    "from sklearn.preprocessing import MinMaxScaler\n",
    "scaler = MinMaxScaler(feature_range=(0,1))\n",
    "df1 = scaler.fit_transform(np.array(df1).reshape(-1,1))"
   ]
  },
  {
   "cell_type": "code",
   "execution_count": 12,
   "id": "2efd05b8",
   "metadata": {},
   "outputs": [
    {
     "data": {
      "text/plain": [
       "(1258, 1)"
      ]
     },
     "execution_count": 12,
     "metadata": {},
     "output_type": "execute_result"
    }
   ],
   "source": [
    "df1.shape"
   ]
  },
  {
   "cell_type": "code",
   "execution_count": 20,
   "id": "79af33a0",
   "metadata": {},
   "outputs": [
    {
     "name": "stdout",
     "output_type": "stream",
     "text": [
      "[[0.09312461]\n",
      " [0.09222292]\n",
      " [0.09142142]\n",
      " ...\n",
      " [0.17765811]\n",
      " [0.16974327]\n",
      " [0.16899186]]\n"
     ]
    }
   ],
   "source": [
    "print(df1)"
   ]
  },
  {
   "cell_type": "code",
   "execution_count": 13,
   "id": "4548621d",
   "metadata": {},
   "outputs": [],
   "source": [
    "#Splitting data into train and test split\n",
    "training_size = int(len(df1)*0.65)\n",
    "test_size = len(df1)-training_size\n",
    "train_data, test_data = df1[0:training_size,:],df1[training_size:len(df1),:1]"
   ]
  },
  {
   "cell_type": "code",
   "execution_count": 14,
   "id": "4018d02e",
   "metadata": {},
   "outputs": [
    {
     "data": {
      "text/plain": [
       "(817, 441)"
      ]
     },
     "execution_count": 14,
     "metadata": {},
     "output_type": "execute_result"
    }
   ],
   "source": [
    "training_size, test_size"
   ]
  },
  {
   "cell_type": "code",
   "execution_count": 15,
   "id": "c5d3ab12",
   "metadata": {},
   "outputs": [],
   "source": [
    "import numpy\n",
    "#Convert an array of values into a dataset matrix\n",
    "def create_dataset(dataset, time_step = 1):\n",
    "    dataX,dataY = [],[]\n",
    "    for i in range(len(dataset)-time_step-1):\n",
    "        a = dataset[i:(i+time_step),0]\n",
    "        dataX.append(a)\n",
    "        dataY.append(dataset[i+time_step,0])\n",
    "    return numpy.array(dataX), numpy.array(dataY)"
   ]
  },
  {
   "cell_type": "code",
   "execution_count": 16,
   "id": "cda68fde",
   "metadata": {},
   "outputs": [],
   "source": [
    "# reshape into X=t,t+1,t+2,t+3 and Y=t+4\n",
    "time_step = 100\n",
    "X_train, y_train = create_dataset(train_data, time_step)\n",
    "X_test, ytest = create_dataset(test_data, time_step)"
   ]
  },
  {
   "cell_type": "code",
   "execution_count": 17,
   "id": "45929d53",
   "metadata": {},
   "outputs": [
    {
     "name": "stdout",
     "output_type": "stream",
     "text": [
      "(716, 100)\n",
      "(716,)\n"
     ]
    },
    {
     "data": {
      "text/plain": [
       "(None, None)"
      ]
     },
     "execution_count": 17,
     "metadata": {},
     "output_type": "execute_result"
    }
   ],
   "source": [
    "print(X_train.shape), print(y_train.shape)"
   ]
  },
  {
   "cell_type": "code",
   "execution_count": 18,
   "id": "33a52174",
   "metadata": {},
   "outputs": [
    {
     "name": "stdout",
     "output_type": "stream",
     "text": [
      "(340, 100)\n",
      "(340,)\n"
     ]
    },
    {
     "data": {
      "text/plain": [
       "(None, None)"
      ]
     },
     "execution_count": 18,
     "metadata": {},
     "output_type": "execute_result"
    }
   ],
   "source": [
    "print(X_test.shape), print(ytest.shape)\n"
   ]
  },
  {
   "cell_type": "code",
   "execution_count": 19,
   "id": "ab14677b",
   "metadata": {},
   "outputs": [],
   "source": [
    "# reshape input to be [samples, time steps, features] which is required for LSTM\n",
    "X_train =X_train.reshape(X_train.shape[0],X_train.shape[1] , 1)\n",
    "X_test = X_test.reshape(X_test.shape[0],X_test.shape[1] , 1)"
   ]
  },
  {
   "cell_type": "code",
   "execution_count": 21,
   "id": "359a287f",
   "metadata": {},
   "outputs": [],
   "source": [
    "#Create stacked LSTM model\n",
    "from tensorflow.keras.models import Sequential\n",
    "from tensorflow.keras.layers import Dense, LSTM"
   ]
  },
  {
   "cell_type": "code",
   "execution_count": 22,
   "id": "64666460",
   "metadata": {},
   "outputs": [
    {
     "name": "stdout",
     "output_type": "stream",
     "text": [
      "WARNING:tensorflow:From C:\\Users\\ABHIROCKZZZ\\Anaconda3\\lib\\site-packages\\tensorflow\\python\\ops\\resource_variable_ops.py:435: colocate_with (from tensorflow.python.framework.ops) is deprecated and will be removed in a future version.\n",
      "Instructions for updating:\n",
      "Colocations handled automatically by placer.\n",
      "WARNING:tensorflow:From C:\\Users\\ABHIROCKZZZ\\Anaconda3\\lib\\site-packages\\tensorflow\\python\\keras\\utils\\losses_utils.py:170: to_float (from tensorflow.python.ops.math_ops) is deprecated and will be removed in a future version.\n",
      "Instructions for updating:\n",
      "Use tf.cast instead.\n"
     ]
    }
   ],
   "source": [
    "model = Sequential()\n",
    "model.add(LSTM(50, return_sequences=True, input_shape = (100,1)))\n",
    "model.add(LSTM(50,return_sequences=True))\n",
    "model.add(LSTM(50))\n",
    "model.add(Dense(1))\n",
    "model.compile(loss='mean_squared_error',optimizer='adam')"
   ]
  },
  {
   "cell_type": "code",
   "execution_count": 23,
   "id": "1eb68860",
   "metadata": {},
   "outputs": [
    {
     "name": "stdout",
     "output_type": "stream",
     "text": [
      "_________________________________________________________________\n",
      "Layer (type)                 Output Shape              Param #   \n",
      "=================================================================\n",
      "lstm (LSTM)                  (None, 100, 50)           10400     \n",
      "_________________________________________________________________\n",
      "lstm_1 (LSTM)                (None, 100, 50)           20200     \n",
      "_________________________________________________________________\n",
      "lstm_2 (LSTM)                (None, 50)                20200     \n",
      "_________________________________________________________________\n",
      "dense (Dense)                (None, 1)                 51        \n",
      "=================================================================\n",
      "Total params: 50,851\n",
      "Trainable params: 50,851\n",
      "Non-trainable params: 0\n",
      "_________________________________________________________________\n"
     ]
    }
   ],
   "source": [
    "model.summary()"
   ]
  },
  {
   "cell_type": "code",
   "execution_count": 24,
   "id": "7eafb2d5",
   "metadata": {},
   "outputs": [
    {
     "name": "stdout",
     "output_type": "stream",
     "text": [
      "_________________________________________________________________\n",
      "Layer (type)                 Output Shape              Param #   \n",
      "=================================================================\n",
      "lstm (LSTM)                  (None, 100, 50)           10400     \n",
      "_________________________________________________________________\n",
      "lstm_1 (LSTM)                (None, 100, 50)           20200     \n",
      "_________________________________________________________________\n",
      "lstm_2 (LSTM)                (None, 50)                20200     \n",
      "_________________________________________________________________\n",
      "dense (Dense)                (None, 1)                 51        \n",
      "=================================================================\n",
      "Total params: 50,851\n",
      "Trainable params: 50,851\n",
      "Non-trainable params: 0\n",
      "_________________________________________________________________\n"
     ]
    }
   ],
   "source": [
    "model.summary()"
   ]
  },
  {
   "cell_type": "code",
   "execution_count": 29,
   "id": "97e80467",
   "metadata": {},
   "outputs": [
    {
     "name": "stdout",
     "output_type": "stream",
     "text": [
      "Train on 716 samples, validate on 340 samples\n",
      "Epoch 1/100\n",
      "716/716 [==============================] - 4s 5ms/sample - loss: 4.8058e-04 - val_loss: 1.9702e-04\n",
      "Epoch 2/100\n",
      "716/716 [==============================] - 4s 5ms/sample - loss: 4.8584e-04 - val_loss: 1.8074e-04\n",
      "Epoch 3/100\n",
      "716/716 [==============================] - 4s 6ms/sample - loss: 4.8699e-04 - val_loss: 2.1470e-04\n",
      "Epoch 4/100\n",
      "716/716 [==============================] - 4s 6ms/sample - loss: 4.8217e-04 - val_loss: 1.8960e-04\n",
      "Epoch 5/100\n",
      "716/716 [==============================] - 4s 6ms/sample - loss: 4.6886e-04 - val_loss: 1.7657e-04\n",
      "Epoch 6/100\n",
      "716/716 [==============================] - 4s 6ms/sample - loss: 4.7749e-04 - val_loss: 1.8716e-04\n",
      "Epoch 7/100\n",
      "716/716 [==============================] - 4s 6ms/sample - loss: 4.8391e-04 - val_loss: 1.9074e-04\n",
      "Epoch 8/100\n",
      "716/716 [==============================] - 4s 6ms/sample - loss: 4.1737e-04 - val_loss: 1.7224e-04\n",
      "Epoch 9/100\n",
      "716/716 [==============================] - 5s 7ms/sample - loss: 4.1620e-04 - val_loss: 1.8751e-04\n",
      "Epoch 10/100\n",
      "716/716 [==============================] - 4s 6ms/sample - loss: 4.4986e-04 - val_loss: 1.7988e-04\n",
      "Epoch 11/100\n",
      "716/716 [==============================] - 4s 6ms/sample - loss: 4.3397e-04 - val_loss: 1.8976e-04\n",
      "Epoch 12/100\n",
      "716/716 [==============================] - 4s 6ms/sample - loss: 4.7009e-04 - val_loss: 1.6956e-04\n",
      "Epoch 13/100\n",
      "716/716 [==============================] - 4s 6ms/sample - loss: 4.3058e-04 - val_loss: 1.8149e-04\n",
      "Epoch 14/100\n",
      "716/716 [==============================] - 5s 6ms/sample - loss: 4.3254e-04 - val_loss: 1.8987e-04\n",
      "Epoch 15/100\n",
      "716/716 [==============================] - 4s 6ms/sample - loss: 4.4044e-04 - val_loss: 1.6547e-04\n",
      "Epoch 16/100\n",
      "716/716 [==============================] - 4s 6ms/sample - loss: 4.0009e-04 - val_loss: 1.6230e-04\n",
      "Epoch 17/100\n",
      "716/716 [==============================] - 4s 6ms/sample - loss: 3.9716e-04 - val_loss: 1.7587e-04\n",
      "Epoch 18/100\n",
      "716/716 [==============================] - 4s 5ms/sample - loss: 3.8567e-04 - val_loss: 1.6332e-04\n",
      "Epoch 19/100\n",
      "716/716 [==============================] - 5s 6ms/sample - loss: 3.8025e-04 - val_loss: 1.5895e-04\n",
      "Epoch 20/100\n",
      "716/716 [==============================] - 4s 6ms/sample - loss: 3.8970e-04 - val_loss: 1.8750e-04\n",
      "Epoch 21/100\n",
      "716/716 [==============================] - 5s 6ms/sample - loss: 3.8093e-04 - val_loss: 1.6049e-04\n",
      "Epoch 22/100\n",
      "716/716 [==============================] - 5s 6ms/sample - loss: 3.6881e-04 - val_loss: 1.5822e-04\n",
      "Epoch 23/100\n",
      "716/716 [==============================] - 4s 6ms/sample - loss: 5.4580e-04 - val_loss: 1.5768e-04\n",
      "Epoch 24/100\n",
      "716/716 [==============================] - 4s 6ms/sample - loss: 4.0069e-04 - val_loss: 1.5711e-04\n",
      "Epoch 25/100\n",
      "716/716 [==============================] - 4s 6ms/sample - loss: 3.7342e-04 - val_loss: 1.5468e-04\n",
      "Epoch 26/100\n",
      "716/716 [==============================] - 4s 6ms/sample - loss: 3.6731e-04 - val_loss: 1.6298e-04\n",
      "Epoch 27/100\n",
      "716/716 [==============================] - 4s 6ms/sample - loss: 3.6395e-04 - val_loss: 1.5315e-04\n",
      "Epoch 28/100\n",
      "716/716 [==============================] - 4s 6ms/sample - loss: 3.7740e-04 - val_loss: 1.6524e-04\n",
      "Epoch 29/100\n",
      "716/716 [==============================] - 4s 6ms/sample - loss: 3.9270e-04 - val_loss: 1.6235e-04\n",
      "Epoch 30/100\n",
      "716/716 [==============================] - 4s 5ms/sample - loss: 3.9916e-04 - val_loss: 1.5433e-04\n",
      "Epoch 31/100\n",
      "716/716 [==============================] - 4s 6ms/sample - loss: 4.0218e-04 - val_loss: 1.5683e-04\n",
      "Epoch 32/100\n",
      "716/716 [==============================] - 4s 6ms/sample - loss: 5.1143e-04 - val_loss: 1.5888e-04\n",
      "Epoch 33/100\n",
      "716/716 [==============================] - 4s 6ms/sample - loss: 4.5235e-04 - val_loss: 1.6769e-04\n",
      "Epoch 34/100\n",
      "716/716 [==============================] - 4s 6ms/sample - loss: 3.9208e-04 - val_loss: 1.4988e-04\n",
      "Epoch 35/100\n",
      "716/716 [==============================] - 4s 6ms/sample - loss: 3.7450e-04 - val_loss: 1.5457e-04\n",
      "Epoch 36/100\n",
      "716/716 [==============================] - 5s 6ms/sample - loss: 3.6923e-04 - val_loss: 1.7147e-04\n",
      "Epoch 37/100\n",
      "716/716 [==============================] - 4s 6ms/sample - loss: 4.1944e-04 - val_loss: 1.4503e-04\n",
      "Epoch 38/100\n",
      "716/716 [==============================] - 5s 7ms/sample - loss: 3.4059e-04 - val_loss: 1.4686e-04\n",
      "Epoch 39/100\n",
      "716/716 [==============================] - 4s 6ms/sample - loss: 3.5622e-04 - val_loss: 1.4593e-04\n",
      "Epoch 40/100\n",
      "716/716 [==============================] - 5s 6ms/sample - loss: 3.6408e-04 - val_loss: 1.8528e-04\n",
      "Epoch 41/100\n",
      "716/716 [==============================] - 4s 6ms/sample - loss: 3.5912e-04 - val_loss: 1.4381e-04\n",
      "Epoch 42/100\n",
      "716/716 [==============================] - 4s 6ms/sample - loss: 3.5651e-04 - val_loss: 1.6204e-04\n",
      "Epoch 43/100\n",
      "716/716 [==============================] - 4s 6ms/sample - loss: 3.4055e-04 - val_loss: 1.4965e-04\n",
      "Epoch 44/100\n",
      "716/716 [==============================] - 4s 6ms/sample - loss: 3.2663e-04 - val_loss: 1.7512e-04\n",
      "Epoch 45/100\n",
      "716/716 [==============================] - 5s 7ms/sample - loss: 3.3881e-04 - val_loss: 1.4060e-04\n",
      "Epoch 46/100\n",
      "716/716 [==============================] - 4s 6ms/sample - loss: 3.2373e-04 - val_loss: 1.4944e-04\n",
      "Epoch 47/100\n",
      "716/716 [==============================] - 4s 6ms/sample - loss: 3.4006e-04 - val_loss: 1.8123e-04\n",
      "Epoch 48/100\n",
      "716/716 [==============================] - 4s 6ms/sample - loss: 3.3305e-04 - val_loss: 1.4362e-04\n",
      "Epoch 49/100\n",
      "716/716 [==============================] - 4s 5ms/sample - loss: 3.2261e-04 - val_loss: 1.4268e-04\n",
      "Epoch 50/100\n",
      "716/716 [==============================] - 4s 6ms/sample - loss: 3.2701e-04 - val_loss: 1.6132e-04\n",
      "Epoch 51/100\n",
      "716/716 [==============================] - 5s 7ms/sample - loss: 3.2758e-04 - val_loss: 1.3684e-04\n",
      "Epoch 52/100\n",
      "716/716 [==============================] - 4s 6ms/sample - loss: 3.2655e-04 - val_loss: 1.7719e-04\n",
      "Epoch 53/100\n",
      "716/716 [==============================] - 4s 6ms/sample - loss: 3.2633e-04 - val_loss: 1.3632e-04\n",
      "Epoch 54/100\n",
      "716/716 [==============================] - 4s 6ms/sample - loss: 3.3508e-04 - val_loss: 1.7532e-04\n",
      "Epoch 55/100\n",
      "716/716 [==============================] - 5s 7ms/sample - loss: 3.3425e-04 - val_loss: 1.3553e-04\n",
      "Epoch 56/100\n",
      "716/716 [==============================] - 4s 6ms/sample - loss: 3.6452e-04 - val_loss: 1.5522e-04\n",
      "Epoch 57/100\n",
      "716/716 [==============================] - 4s 6ms/sample - loss: 4.2648e-04 - val_loss: 1.4040e-04\n",
      "Epoch 58/100\n",
      "716/716 [==============================] - 5s 7ms/sample - loss: 3.3542e-04 - val_loss: 1.4677e-04\n",
      "Epoch 59/100\n",
      "716/716 [==============================] - 4s 6ms/sample - loss: 3.1972e-04 - val_loss: 1.3807e-04\n",
      "Epoch 60/100\n",
      "716/716 [==============================] - 5s 6ms/sample - loss: 3.0796e-04 - val_loss: 1.3851e-04\n",
      "Epoch 61/100\n",
      "716/716 [==============================] - 4s 6ms/sample - loss: 2.9551e-04 - val_loss: 1.8740e-04\n",
      "Epoch 62/100\n",
      "716/716 [==============================] - 4s 6ms/sample - loss: 3.6181e-04 - val_loss: 1.3035e-04\n",
      "Epoch 63/100\n",
      "716/716 [==============================] - 4s 6ms/sample - loss: 3.2062e-04 - val_loss: 1.5620e-04\n",
      "Epoch 64/100\n",
      "716/716 [==============================] - 4s 6ms/sample - loss: 3.0419e-04 - val_loss: 1.2719e-04\n",
      "Epoch 65/100\n",
      "716/716 [==============================] - 4s 5ms/sample - loss: 3.4373e-04 - val_loss: 1.2673e-04\n",
      "Epoch 66/100\n",
      "716/716 [==============================] - 4s 5ms/sample - loss: 2.9212e-04 - val_loss: 1.5238e-04\n",
      "Epoch 67/100\n",
      "716/716 [==============================] - 4s 5ms/sample - loss: 3.0326e-04 - val_loss: 1.3133e-04\n",
      "Epoch 68/100\n",
      "716/716 [==============================] - 4s 5ms/sample - loss: 2.9529e-04 - val_loss: 1.4222e-04\n",
      "Epoch 69/100\n",
      "716/716 [==============================] - 4s 5ms/sample - loss: 2.9181e-04 - val_loss: 1.4575e-04\n",
      "Epoch 70/100\n",
      "716/716 [==============================] - 4s 6ms/sample - loss: 3.5536e-04 - val_loss: 1.4307e-04\n",
      "Epoch 71/100\n",
      "716/716 [==============================] - 4s 6ms/sample - loss: 3.6827e-04 - val_loss: 1.4957e-04\n",
      "Epoch 72/100\n",
      "716/716 [==============================] - 4s 6ms/sample - loss: 3.7029e-04 - val_loss: 1.2787e-04\n",
      "Epoch 73/100\n",
      "716/716 [==============================] - 4s 6ms/sample - loss: 3.3363e-04 - val_loss: 1.2222e-04\n"
     ]
    },
    {
     "name": "stdout",
     "output_type": "stream",
     "text": [
      "Epoch 74/100\n",
      "716/716 [==============================] - 4s 6ms/sample - loss: 2.8459e-04 - val_loss: 1.2710e-04\n",
      "Epoch 75/100\n",
      "716/716 [==============================] - 4s 6ms/sample - loss: 2.9203e-04 - val_loss: 1.1887e-04\n",
      "Epoch 76/100\n",
      "716/716 [==============================] - 4s 6ms/sample - loss: 2.7852e-04 - val_loss: 1.9130e-04\n",
      "Epoch 77/100\n",
      "716/716 [==============================] - 4s 6ms/sample - loss: 2.6495e-04 - val_loss: 1.2298e-04\n",
      "Epoch 78/100\n",
      "716/716 [==============================] - 4s 6ms/sample - loss: 2.7235e-04 - val_loss: 1.2922e-04\n",
      "Epoch 79/100\n",
      "716/716 [==============================] - 4s 6ms/sample - loss: 2.6645e-04 - val_loss: 1.6723e-04\n",
      "Epoch 80/100\n",
      "716/716 [==============================] - 4s 6ms/sample - loss: 2.8436e-04 - val_loss: 1.1794e-04\n",
      "Epoch 81/100\n",
      "716/716 [==============================] - 5s 7ms/sample - loss: 2.7043e-04 - val_loss: 1.5372e-04\n",
      "Epoch 82/100\n",
      "716/716 [==============================] - 4s 5ms/sample - loss: 3.0308e-04 - val_loss: 1.1678e-04\n",
      "Epoch 83/100\n",
      "716/716 [==============================] - 4s 5ms/sample - loss: 2.5262e-04 - val_loss: 1.7026e-04\n",
      "Epoch 84/100\n",
      "716/716 [==============================] - 4s 5ms/sample - loss: 2.5879e-04 - val_loss: 1.1080e-04\n",
      "Epoch 85/100\n",
      "716/716 [==============================] - 4s 5ms/sample - loss: 2.4643e-04 - val_loss: 1.4828e-04\n",
      "Epoch 86/100\n",
      "716/716 [==============================] - 4s 5ms/sample - loss: 2.5009e-04 - val_loss: 1.2154e-04\n",
      "Epoch 87/100\n",
      "716/716 [==============================] - 4s 5ms/sample - loss: 2.5245e-04 - val_loss: 1.2075e-04\n",
      "Epoch 88/100\n",
      "716/716 [==============================] - 4s 5ms/sample - loss: 2.3673e-04 - val_loss: 1.0766e-04\n",
      "Epoch 89/100\n",
      "716/716 [==============================] - 4s 5ms/sample - loss: 2.5873e-04 - val_loss: 1.4888e-04\n",
      "Epoch 90/100\n",
      "716/716 [==============================] - 4s 5ms/sample - loss: 2.4542e-04 - val_loss: 1.1236e-04\n",
      "Epoch 91/100\n",
      "716/716 [==============================] - 4s 5ms/sample - loss: 2.6010e-04 - val_loss: 1.2435e-04\n",
      "Epoch 92/100\n",
      "716/716 [==============================] - 4s 5ms/sample - loss: 2.4280e-04 - val_loss: 1.2426e-04\n",
      "Epoch 93/100\n",
      "716/716 [==============================] - 4s 5ms/sample - loss: 2.5224e-04 - val_loss: 1.0448e-04\n",
      "Epoch 94/100\n",
      "716/716 [==============================] - 4s 5ms/sample - loss: 2.3593e-04 - val_loss: 1.1207e-04\n",
      "Epoch 95/100\n",
      "716/716 [==============================] - 3s 5ms/sample - loss: 2.4366e-04 - val_loss: 1.0691e-04\n",
      "Epoch 96/100\n",
      "716/716 [==============================] - 4s 5ms/sample - loss: 2.4118e-04 - val_loss: 1.0329e-04\n",
      "Epoch 97/100\n",
      "716/716 [==============================] - 3s 5ms/sample - loss: 2.5859e-04 - val_loss: 1.2483e-04\n",
      "Epoch 98/100\n",
      "716/716 [==============================] - 3s 5ms/sample - loss: 2.3277e-04 - val_loss: 1.2807e-04\n",
      "Epoch 99/100\n",
      "716/716 [==============================] - 4s 5ms/sample - loss: 2.4477e-04 - val_loss: 1.0055e-04\n",
      "Epoch 100/100\n",
      "716/716 [==============================] - 4s 5ms/sample - loss: 2.2664e-04 - val_loss: 1.0350e-04\n"
     ]
    },
    {
     "data": {
      "text/plain": [
       "<tensorflow.python.keras.callbacks.History at 0x1ba07f0fc18>"
      ]
     },
     "execution_count": 29,
     "metadata": {},
     "output_type": "execute_result"
    }
   ],
   "source": [
    "model.fit(X_train,y_train,validation_data=(X_test,ytest),epochs=100,batch_size=64,verbose=1)"
   ]
  },
  {
   "cell_type": "code",
   "execution_count": 30,
   "id": "bcb68679",
   "metadata": {},
   "outputs": [],
   "source": [
    "### Lets Do the prediction and check performance metrics\n",
    "train_predict=model.predict(X_train)\n",
    "test_predict=model.predict(X_test)"
   ]
  },
  {
   "cell_type": "code",
   "execution_count": 31,
   "id": "a66d7bbf",
   "metadata": {},
   "outputs": [],
   "source": [
    "##Transformback to original form\n",
    "train_predict=scaler.inverse_transform(train_predict)\n",
    "test_predict=scaler.inverse_transform(test_predict)"
   ]
  },
  {
   "cell_type": "code",
   "execution_count": 32,
   "id": "470a834e",
   "metadata": {},
   "outputs": [
    {
     "data": {
      "text/plain": [
       "215.23981667599082"
      ]
     },
     "execution_count": 32,
     "metadata": {},
     "output_type": "execute_result"
    }
   ],
   "source": [
    "#Calculate RMSE performance metrics\n",
    "import math\n",
    "from sklearn.metrics import mean_squared_error\n",
    "math.sqrt(mean_squared_error(y_train, train_predict))"
   ]
  },
  {
   "cell_type": "code",
   "execution_count": 33,
   "id": "f2a342bc",
   "metadata": {},
   "outputs": [
    {
     "data": {
      "text/plain": [
       "146.0896092792524"
      ]
     },
     "execution_count": 33,
     "metadata": {},
     "output_type": "execute_result"
    }
   ],
   "source": [
    "### Test Data RMSE\n",
    "math.sqrt(mean_squared_error(ytest,test_predict))"
   ]
  },
  {
   "cell_type": "code",
   "execution_count": 34,
   "id": "4f63d61e",
   "metadata": {},
   "outputs": [
    {
     "data": {
      "image/png": "[encoded data removed]",
      "text/plain": [
       "<Figure size 432x288 with 1 Axes>"
      ]
     },
     "metadata": {},
     "output_type": "display_data"
    }
   ],
   "source": [
    "### Plotting \n",
    "# shift train predictions for plotting\n",
    "look_back=100\n",
    "trainPredictPlot = numpy.empty_like(df1)\n",
    "trainPredictPlot[:, :] = np.nan\n",
    "trainPredictPlot[look_back:len(train_predict)+look_back, :] = train_predict\n",
    "# shift test predictions for plotting\n",
    "testPredictPlot = numpy.empty_like(df1)\n",
    "testPredictPlot[:, :] = numpy.nan\n",
    "testPredictPlot[len(train_predict)+(look_back*2)+1:len(df1)-1, :] = test_predict\n",
    "# plot baseline and predictions\n",
    "plt.plot(scaler.inverse_transform(df1))\n",
    "plt.plot(trainPredictPlot)\n",
    "plt.plot(testPredictPlot)\n",
    "plt.show()"
   ]
  },
  {
   "cell_type": "code",
   "execution_count": 35,
   "id": "07cfcd47",
   "metadata": {},
   "outputs": [
    {
     "data": {
      "text/plain": [
       "441"
      ]
     },
     "execution_count": 35,
     "metadata": {},
     "output_type": "execute_result"
    }
   ],
   "source": [
    "len(test_data)\n"
   ]
  },
  {
   "cell_type": "code",
   "execution_count": 36,
   "id": "562c858a",
   "metadata": {},
   "outputs": [
    {
     "data": {
      "text/plain": [
       "(1, 100)"
      ]
     },
     "execution_count": 36,
     "metadata": {},
     "output_type": "execute_result"
    }
   ],
   "source": [
    "x_input=test_data[341:].reshape(1,-1)\n",
    "x_input.shape"
   ]
  },
  {
   "cell_type": "code",
   "execution_count": 37,
   "id": "151f61e9",
   "metadata": {},
   "outputs": [],
   "source": [
    "temp_input=list(x_input)\n",
    "temp_input=temp_input[0].tolist()"
   ]
  },
  {
   "cell_type": "code",
   "execution_count": 40,
   "id": "db74ff1a",
   "metadata": {},
   "outputs": [
    {
     "data": {
      "text/plain": [
       "100"
      ]
     },
     "execution_count": 40,
     "metadata": {},
     "output_type": "execute_result"
    }
   ],
   "source": [
    "len(temp_input)"
   ]
  },
  {
   "cell_type": "code",
   "execution_count": 41,
   "id": "9aec160b",
   "metadata": {},
   "outputs": [
    {
     "name": "stdout",
     "output_type": "stream",
     "text": [
      "[0.1715621]\n",
      "101\n",
      "1 day input [0.10289292 0.10276769 0.10807765 0.10810269 0.11060739 0.11684408\n",
      " 0.12781465 0.13452724 0.13570445 0.13668128 0.13800877 0.12515967\n",
      " 0.13375078 0.14642455 0.14509706 0.14256731 0.1377583  0.14647464\n",
      " 0.16115216 0.17092048 0.16961803 0.181866   0.17257358 0.16904195\n",
      " 0.18149029 0.16385723 0.16105197 0.15757044 0.16568566 0.17232311\n",
      " 0.17392611 0.18407013 0.18146525 0.18169067 0.17873513 0.17715717\n",
      " 0.18827802 0.18249217 0.17051972 0.16320601 0.16363181 0.1636819\n",
      " 0.17092048 0.17204759 0.1636819  0.16588604 0.15769568 0.14875391\n",
      " 0.14444584 0.13918597 0.13720726 0.13259862 0.1323732  0.13119599\n",
      " 0.15902317 0.17016907 0.16974327 0.17282405 0.16546024 0.16418284\n",
      " 0.16235441 0.1702943  0.17392611 0.16350657 0.15479023 0.15539136\n",
      " 0.16518472 0.16458359 0.15539136 0.15143394 0.14396994 0.13332498\n",
      " 0.14001252 0.14529743 0.1459737  0.14116468 0.14958046 0.14875391\n",
      " 0.14108954 0.13139637 0.12673763 0.14053851 0.12944271 0.11994991\n",
      " 0.1096556  0.1208516  0.13212273 0.13470257 0.14311835 0.14662492\n",
      " 0.15524108 0.1587226  0.16839073 0.17001879 0.17222292 0.1806387\n",
      " 0.17765811 0.16974327 0.16899186 0.17156211]\n",
      "1 day output [[0.17041811]]\n",
      "2 day input [0.10276769 0.10807765 0.10810269 0.11060739 0.11684408 0.12781465\n",
      " 0.13452724 0.13570445 0.13668128 0.13800877 0.12515967 0.13375078\n",
      " 0.14642455 0.14509706 0.14256731 0.1377583  0.14647464 0.16115216\n",
      " 0.17092048 0.16961803 0.181866   0.17257358 0.16904195 0.18149029\n",
      " 0.16385723 0.16105197 0.15757044 0.16568566 0.17232311 0.17392611\n",
      " 0.18407013 0.18146525 0.18169067 0.17873513 0.17715717 0.18827802\n",
      " 0.18249217 0.17051972 0.16320601 0.16363181 0.1636819  0.17092048\n",
      " 0.17204759 0.1636819  0.16588604 0.15769568 0.14875391 0.14444584\n",
      " 0.13918597 0.13720726 0.13259862 0.1323732  0.13119599 0.15902317\n",
      " 0.17016907 0.16974327 0.17282405 0.16546024 0.16418284 0.16235441\n",
      " 0.1702943  0.17392611 0.16350657 0.15479023 0.15539136 0.16518472\n",
      " 0.16458359 0.15539136 0.15143394 0.14396994 0.13332498 0.14001252\n",
      " 0.14529743 0.1459737  0.14116468 0.14958046 0.14875391 0.14108954\n",
      " 0.13139637 0.12673763 0.14053851 0.12944271 0.11994991 0.1096556\n",
      " 0.1208516  0.13212273 0.13470257 0.14311835 0.14662492 0.15524108\n",
      " 0.1587226  0.16839073 0.17001879 0.17222292 0.1806387  0.17765811\n",
      " 0.16974327 0.16899186 0.17156211 0.17041811]\n",
      "2 day output [[0.16912359]]\n",
      "3 day input [0.10807765 0.10810269 0.11060739 0.11684408 0.12781465 0.13452724\n",
      " 0.13570445 0.13668128 0.13800877 0.12515967 0.13375078 0.14642455\n",
      " 0.14509706 0.14256731 0.1377583  0.14647464 0.16115216 0.17092048\n",
      " 0.16961803 0.181866   0.17257358 0.16904195 0.18149029 0.16385723\n",
      " 0.16105197 0.15757044 0.16568566 0.17232311 0.17392611 0.18407013\n",
      " 0.18146525 0.18169067 0.17873513 0.17715717 0.18827802 0.18249217\n",
      " 0.17051972 0.16320601 0.16363181 0.1636819  0.17092048 0.17204759\n",
      " 0.1636819  0.16588604 0.15769568 0.14875391 0.14444584 0.13918597\n",
      " 0.13720726 0.13259862 0.1323732  0.13119599 0.15902317 0.17016907\n",
      " 0.16974327 0.17282405 0.16546024 0.16418284 0.16235441 0.1702943\n",
      " 0.17392611 0.16350657 0.15479023 0.15539136 0.16518472 0.16458359\n",
      " 0.15539136 0.15143394 0.14396994 0.13332498 0.14001252 0.14529743\n",
      " 0.1459737  0.14116468 0.14958046 0.14875391 0.14108954 0.13139637\n",
      " 0.12673763 0.14053851 0.12944271 0.11994991 0.1096556  0.1208516\n",
      " 0.13212273 0.13470257 0.14311835 0.14662492 0.15524108 0.1587226\n",
      " 0.16839073 0.17001879 0.17222292 0.1806387  0.17765811 0.16974327\n",
      " 0.16899186 0.17156211 0.17041811 0.16912359]\n",
      "3 day output [[0.1678696]]\n",
      "4 day input [0.10810269 0.11060739 0.11684408 0.12781465 0.13452724 0.13570445\n",
      " 0.13668128 0.13800877 0.12515967 0.13375078 0.14642455 0.14509706\n",
      " 0.14256731 0.1377583  0.14647464 0.16115216 0.17092048 0.16961803\n",
      " 0.181866   0.17257358 0.16904195 0.18149029 0.16385723 0.16105197\n",
      " 0.15757044 0.16568566 0.17232311 0.17392611 0.18407013 0.18146525\n",
      " 0.18169067 0.17873513 0.17715717 0.18827802 0.18249217 0.17051972\n",
      " 0.16320601 0.16363181 0.1636819  0.17092048 0.17204759 0.1636819\n",
      " 0.16588604 0.15769568 0.14875391 0.14444584 0.13918597 0.13720726\n",
      " 0.13259862 0.1323732  0.13119599 0.15902317 0.17016907 0.16974327\n",
      " 0.17282405 0.16546024 0.16418284 0.16235441 0.1702943  0.17392611\n",
      " 0.16350657 0.15479023 0.15539136 0.16518472 0.16458359 0.15539136\n",
      " 0.15143394 0.14396994 0.13332498 0.14001252 0.14529743 0.1459737\n",
      " 0.14116468 0.14958046 0.14875391 0.14108954 0.13139637 0.12673763\n",
      " 0.14053851 0.12944271 0.11994991 0.1096556  0.1208516  0.13212273\n",
      " 0.13470257 0.14311835 0.14662492 0.15524108 0.1587226  0.16839073\n",
      " 0.17001879 0.17222292 0.1806387  0.17765811 0.16974327 0.16899186\n",
      " 0.17156211 0.17041811 0.16912359 0.1678696 ]\n",
      "4 day output [[0.16670588]]\n",
      "5 day input [0.11060739 0.11684408 0.12781465 0.13452724 0.13570445 0.13668128\n",
      " 0.13800877 0.12515967 0.13375078 0.14642455 0.14509706 0.14256731\n",
      " 0.1377583  0.14647464 0.16115216 0.17092048 0.16961803 0.181866\n",
      " 0.17257358 0.16904195 0.18149029 0.16385723 0.16105197 0.15757044\n",
      " 0.16568566 0.17232311 0.17392611 0.18407013 0.18146525 0.18169067\n",
      " 0.17873513 0.17715717 0.18827802 0.18249217 0.17051972 0.16320601\n",
      " 0.16363181 0.1636819  0.17092048 0.17204759 0.1636819  0.16588604\n",
      " 0.15769568 0.14875391 0.14444584 0.13918597 0.13720726 0.13259862\n",
      " 0.1323732  0.13119599 0.15902317 0.17016907 0.16974327 0.17282405\n",
      " 0.16546024 0.16418284 0.16235441 0.1702943  0.17392611 0.16350657\n",
      " 0.15479023 0.15539136 0.16518472 0.16458359 0.15539136 0.15143394\n",
      " 0.14396994 0.13332498 0.14001252 0.14529743 0.1459737  0.14116468\n",
      " 0.14958046 0.14875391 0.14108954 0.13139637 0.12673763 0.14053851\n",
      " 0.12944271 0.11994991 0.1096556  0.1208516  0.13212273 0.13470257\n",
      " 0.14311835 0.14662492 0.15524108 0.1587226  0.16839073 0.17001879\n",
      " 0.17222292 0.1806387  0.17765811 0.16974327 0.16899186 0.17156211\n",
      " 0.17041811 0.16912359 0.1678696  0.16670588]\n",
      "5 day output [[0.16563621]]\n",
      "6 day input [0.11684408 0.12781465 0.13452724 0.13570445 0.13668128 0.13800877\n",
      " 0.12515967 0.13375078 0.14642455 0.14509706 0.14256731 0.1377583\n",
      " 0.14647464 0.16115216 0.17092048 0.16961803 0.181866   0.17257358\n",
      " 0.16904195 0.18149029 0.16385723 0.16105197 0.15757044 0.16568566\n",
      " 0.17232311 0.17392611 0.18407013 0.18146525 0.18169067 0.17873513\n",
      " 0.17715717 0.18827802 0.18249217 0.17051972 0.16320601 0.16363181\n",
      " 0.1636819  0.17092048 0.17204759 0.1636819  0.16588604 0.15769568\n",
      " 0.14875391 0.14444584 0.13918597 0.13720726 0.13259862 0.1323732\n",
      " 0.13119599 0.15902317 0.17016907 0.16974327 0.17282405 0.16546024\n",
      " 0.16418284 0.16235441 0.1702943  0.17392611 0.16350657 0.15479023\n",
      " 0.15539136 0.16518472 0.16458359 0.15539136 0.15143394 0.14396994\n",
      " 0.13332498 0.14001252 0.14529743 0.1459737  0.14116468 0.14958046\n",
      " 0.14875391 0.14108954 0.13139637 0.12673763 0.14053851 0.12944271\n",
      " 0.11994991 0.1096556  0.1208516  0.13212273 0.13470257 0.14311835\n",
      " 0.14662492 0.15524108 0.1587226  0.16839073 0.17001879 0.17222292\n",
      " 0.1806387  0.17765811 0.16974327 0.16899186 0.17156211 0.17041811\n",
      " 0.16912359 0.1678696  0.16670588 0.16563621]\n",
      "6 day output [[0.16465363]]\n",
      "7 day input [0.12781465 0.13452724 0.13570445 0.13668128 0.13800877 0.12515967\n",
      " 0.13375078 0.14642455 0.14509706 0.14256731 0.1377583  0.14647464\n",
      " 0.16115216 0.17092048 0.16961803 0.181866   0.17257358 0.16904195\n",
      " 0.18149029 0.16385723 0.16105197 0.15757044 0.16568566 0.17232311\n",
      " 0.17392611 0.18407013 0.18146525 0.18169067 0.17873513 0.17715717\n",
      " 0.18827802 0.18249217 0.17051972 0.16320601 0.16363181 0.1636819\n",
      " 0.17092048 0.17204759 0.1636819  0.16588604 0.15769568 0.14875391\n",
      " 0.14444584 0.13918597 0.13720726 0.13259862 0.1323732  0.13119599\n",
      " 0.15902317 0.17016907 0.16974327 0.17282405 0.16546024 0.16418284\n",
      " 0.16235441 0.1702943  0.17392611 0.16350657 0.15479023 0.15539136\n",
      " 0.16518472 0.16458359 0.15539136 0.15143394 0.14396994 0.13332498\n",
      " 0.14001252 0.14529743 0.1459737  0.14116468 0.14958046 0.14875391\n",
      " 0.14108954 0.13139637 0.12673763 0.14053851 0.12944271 0.11994991\n",
      " 0.1096556  0.1208516  0.13212273 0.13470257 0.14311835 0.14662492\n",
      " 0.15524108 0.1587226  0.16839073 0.17001879 0.17222292 0.1806387\n",
      " 0.17765811 0.16974327 0.16899186 0.17156211 0.17041811 0.16912359\n",
      " 0.1678696  0.16670588 0.16563621 0.16465363]\n",
      "7 day output [[0.16375008]]\n",
      "8 day input [0.13452724 0.13570445 0.13668128 0.13800877 0.12515967 0.13375078\n",
      " 0.14642455 0.14509706 0.14256731 0.1377583  0.14647464 0.16115216\n",
      " 0.17092048 0.16961803 0.181866   0.17257358 0.16904195 0.18149029\n",
      " 0.16385723 0.16105197 0.15757044 0.16568566 0.17232311 0.17392611\n",
      " 0.18407013 0.18146525 0.18169067 0.17873513 0.17715717 0.18827802\n",
      " 0.18249217 0.17051972 0.16320601 0.16363181 0.1636819  0.17092048\n",
      " 0.17204759 0.1636819  0.16588604 0.15769568 0.14875391 0.14444584\n",
      " 0.13918597 0.13720726 0.13259862 0.1323732  0.13119599 0.15902317\n",
      " 0.17016907 0.16974327 0.17282405 0.16546024 0.16418284 0.16235441\n",
      " 0.1702943  0.17392611 0.16350657 0.15479023 0.15539136 0.16518472\n",
      " 0.16458359 0.15539136 0.15143394 0.14396994 0.13332498 0.14001252\n",
      " 0.14529743 0.1459737  0.14116468 0.14958046 0.14875391 0.14108954\n",
      " 0.13139637 0.12673763 0.14053851 0.12944271 0.11994991 0.1096556\n",
      " 0.1208516  0.13212273 0.13470257 0.14311835 0.14662492 0.15524108\n",
      " 0.1587226  0.16839073 0.17001879 0.17222292 0.1806387  0.17765811\n",
      " 0.16974327 0.16899186 0.17156211 0.17041811 0.16912359 0.1678696\n",
      " 0.16670588 0.16563621 0.16465363 0.16375008]\n",
      "8 day output [[0.16291744]]\n",
      "9 day input [0.13570445 0.13668128 0.13800877 0.12515967 0.13375078 0.14642455\n",
      " 0.14509706 0.14256731 0.1377583  0.14647464 0.16115216 0.17092048\n",
      " 0.16961803 0.181866   0.17257358 0.16904195 0.18149029 0.16385723\n",
      " 0.16105197 0.15757044 0.16568566 0.17232311 0.17392611 0.18407013\n",
      " 0.18146525 0.18169067 0.17873513 0.17715717 0.18827802 0.18249217\n",
      " 0.17051972 0.16320601 0.16363181 0.1636819  0.17092048 0.17204759\n",
      " 0.1636819  0.16588604 0.15769568 0.14875391 0.14444584 0.13918597\n",
      " 0.13720726 0.13259862 0.1323732  0.13119599 0.15902317 0.17016907\n",
      " 0.16974327 0.17282405 0.16546024 0.16418284 0.16235441 0.1702943\n",
      " 0.17392611 0.16350657 0.15479023 0.15539136 0.16518472 0.16458359\n",
      " 0.15539136 0.15143394 0.14396994 0.13332498 0.14001252 0.14529743\n",
      " 0.1459737  0.14116468 0.14958046 0.14875391 0.14108954 0.13139637\n",
      " 0.12673763 0.14053851 0.12944271 0.11994991 0.1096556  0.1208516\n",
      " 0.13212273 0.13470257 0.14311835 0.14662492 0.15524108 0.1587226\n",
      " 0.16839073 0.17001879 0.17222292 0.1806387  0.17765811 0.16974327\n",
      " 0.16899186 0.17156211 0.17041811 0.16912359 0.1678696  0.16670588\n",
      " 0.16563621 0.16465363 0.16375008 0.16291744]\n",
      "9 day output [[0.1621469]]\n",
      "10 day input [0.13668128 0.13800877 0.12515967 0.13375078 0.14642455 0.14509706\n",
      " 0.14256731 0.1377583  0.14647464 0.16115216 0.17092048 0.16961803\n",
      " 0.181866   0.17257358 0.16904195 0.18149029 0.16385723 0.16105197\n",
      " 0.15757044 0.16568566 0.17232311 0.17392611 0.18407013 0.18146525\n",
      " 0.18169067 0.17873513 0.17715717 0.18827802 0.18249217 0.17051972\n",
      " 0.16320601 0.16363181 0.1636819  0.17092048 0.17204759 0.1636819\n",
      " 0.16588604 0.15769568 0.14875391 0.14444584 0.13918597 0.13720726\n",
      " 0.13259862 0.1323732  0.13119599 0.15902317 0.17016907 0.16974327\n",
      " 0.17282405 0.16546024 0.16418284 0.16235441 0.1702943  0.17392611\n",
      " 0.16350657 0.15479023 0.15539136 0.16518472 0.16458359 0.15539136\n",
      " 0.15143394 0.14396994 0.13332498 0.14001252 0.14529743 0.1459737\n",
      " 0.14116468 0.14958046 0.14875391 0.14108954 0.13139637 0.12673763\n",
      " 0.14053851 0.12944271 0.11994991 0.1096556  0.1208516  0.13212273\n",
      " 0.13470257 0.14311835 0.14662492 0.15524108 0.1587226  0.16839073\n",
      " 0.17001879 0.17222292 0.1806387  0.17765811 0.16974327 0.16899186\n",
      " 0.17156211 0.17041811 0.16912359 0.1678696  0.16670588 0.16563621\n",
      " 0.16465363 0.16375008 0.16291744 0.1621469 ]\n",
      "10 day output [[0.16142908]]\n",
      "11 day input [0.13800877 0.12515967 0.13375078 0.14642455 0.14509706 0.14256731\n",
      " 0.1377583  0.14647464 0.16115216 0.17092048 0.16961803 0.181866\n",
      " 0.17257358 0.16904195 0.18149029 0.16385723 0.16105197 0.15757044\n",
      " 0.16568566 0.17232311 0.17392611 0.18407013 0.18146525 0.18169067\n",
      " 0.17873513 0.17715717 0.18827802 0.18249217 0.17051972 0.16320601\n",
      " 0.16363181 0.1636819  0.17092048 0.17204759 0.1636819  0.16588604\n",
      " 0.15769568 0.14875391 0.14444584 0.13918597 0.13720726 0.13259862\n",
      " 0.1323732  0.13119599 0.15902317 0.17016907 0.16974327 0.17282405\n",
      " 0.16546024 0.16418284 0.16235441 0.1702943  0.17392611 0.16350657\n",
      " 0.15479023 0.15539136 0.16518472 0.16458359 0.15539136 0.15143394\n",
      " 0.14396994 0.13332498 0.14001252 0.14529743 0.1459737  0.14116468\n",
      " 0.14958046 0.14875391 0.14108954 0.13139637 0.12673763 0.14053851\n",
      " 0.12944271 0.11994991 0.1096556  0.1208516  0.13212273 0.13470257\n",
      " 0.14311835 0.14662492 0.15524108 0.1587226  0.16839073 0.17001879\n",
      " 0.17222292 0.1806387  0.17765811 0.16974327 0.16899186 0.17156211\n",
      " 0.17041811 0.16912359 0.1678696  0.16670588 0.16563621 0.16465363\n",
      " 0.16375008 0.16291744 0.1621469  0.16142908]\n"
     ]
    },
    {
     "name": "stdout",
     "output_type": "stream",
     "text": [
      "11 day output [[0.16075453]]\n",
      "12 day input [0.12515967 0.13375078 0.14642455 0.14509706 0.14256731 0.1377583\n",
      " 0.14647464 0.16115216 0.17092048 0.16961803 0.181866   0.17257358\n",
      " 0.16904195 0.18149029 0.16385723 0.16105197 0.15757044 0.16568566\n",
      " 0.17232311 0.17392611 0.18407013 0.18146525 0.18169067 0.17873513\n",
      " 0.17715717 0.18827802 0.18249217 0.17051972 0.16320601 0.16363181\n",
      " 0.1636819  0.17092048 0.17204759 0.1636819  0.16588604 0.15769568\n",
      " 0.14875391 0.14444584 0.13918597 0.13720726 0.13259862 0.1323732\n",
      " 0.13119599 0.15902317 0.17016907 0.16974327 0.17282405 0.16546024\n",
      " 0.16418284 0.16235441 0.1702943  0.17392611 0.16350657 0.15479023\n",
      " 0.15539136 0.16518472 0.16458359 0.15539136 0.15143394 0.14396994\n",
      " 0.13332498 0.14001252 0.14529743 0.1459737  0.14116468 0.14958046\n",
      " 0.14875391 0.14108954 0.13139637 0.12673763 0.14053851 0.12944271\n",
      " 0.11994991 0.1096556  0.1208516  0.13212273 0.13470257 0.14311835\n",
      " 0.14662492 0.15524108 0.1587226  0.16839073 0.17001879 0.17222292\n",
      " 0.1806387  0.17765811 0.16974327 0.16899186 0.17156211 0.17041811\n",
      " 0.16912359 0.1678696  0.16670588 0.16563621 0.16465363 0.16375008\n",
      " 0.16291744 0.1621469  0.16142908 0.16075453]\n",
      "12 day output [[0.1601142]]\n",
      "13 day input [0.13375078 0.14642455 0.14509706 0.14256731 0.1377583  0.14647464\n",
      " 0.16115216 0.17092048 0.16961803 0.181866   0.17257358 0.16904195\n",
      " 0.18149029 0.16385723 0.16105197 0.15757044 0.16568566 0.17232311\n",
      " 0.17392611 0.18407013 0.18146525 0.18169067 0.17873513 0.17715717\n",
      " 0.18827802 0.18249217 0.17051972 0.16320601 0.16363181 0.1636819\n",
      " 0.17092048 0.17204759 0.1636819  0.16588604 0.15769568 0.14875391\n",
      " 0.14444584 0.13918597 0.13720726 0.13259862 0.1323732  0.13119599\n",
      " 0.15902317 0.17016907 0.16974327 0.17282405 0.16546024 0.16418284\n",
      " 0.16235441 0.1702943  0.17392611 0.16350657 0.15479023 0.15539136\n",
      " 0.16518472 0.16458359 0.15539136 0.15143394 0.14396994 0.13332498\n",
      " 0.14001252 0.14529743 0.1459737  0.14116468 0.14958046 0.14875391\n",
      " 0.14108954 0.13139637 0.12673763 0.14053851 0.12944271 0.11994991\n",
      " 0.1096556  0.1208516  0.13212273 0.13470257 0.14311835 0.14662492\n",
      " 0.15524108 0.1587226  0.16839073 0.17001879 0.17222292 0.1806387\n",
      " 0.17765811 0.16974327 0.16899186 0.17156211 0.17041811 0.16912359\n",
      " 0.1678696  0.16670588 0.16563621 0.16465363 0.16375008 0.16291744\n",
      " 0.1621469  0.16142908 0.16075453 0.1601142 ]\n",
      "13 day output [[0.15950015]]\n",
      "14 day input [0.14642455 0.14509706 0.14256731 0.1377583  0.14647464 0.16115216\n",
      " 0.17092048 0.16961803 0.181866   0.17257358 0.16904195 0.18149029\n",
      " 0.16385723 0.16105197 0.15757044 0.16568566 0.17232311 0.17392611\n",
      " 0.18407013 0.18146525 0.18169067 0.17873513 0.17715717 0.18827802\n",
      " 0.18249217 0.17051972 0.16320601 0.16363181 0.1636819  0.17092048\n",
      " 0.17204759 0.1636819  0.16588604 0.15769568 0.14875391 0.14444584\n",
      " 0.13918597 0.13720726 0.13259862 0.1323732  0.13119599 0.15902317\n",
      " 0.17016907 0.16974327 0.17282405 0.16546024 0.16418284 0.16235441\n",
      " 0.1702943  0.17392611 0.16350657 0.15479023 0.15539136 0.16518472\n",
      " 0.16458359 0.15539136 0.15143394 0.14396994 0.13332498 0.14001252\n",
      " 0.14529743 0.1459737  0.14116468 0.14958046 0.14875391 0.14108954\n",
      " 0.13139637 0.12673763 0.14053851 0.12944271 0.11994991 0.1096556\n",
      " 0.1208516  0.13212273 0.13470257 0.14311835 0.14662492 0.15524108\n",
      " 0.1587226  0.16839073 0.17001879 0.17222292 0.1806387  0.17765811\n",
      " 0.16974327 0.16899186 0.17156211 0.17041811 0.16912359 0.1678696\n",
      " 0.16670588 0.16563621 0.16465363 0.16375008 0.16291744 0.1621469\n",
      " 0.16142908 0.16075453 0.1601142  0.15950015]\n",
      "14 day output [[0.15890571]]\n",
      "15 day input [0.14509706 0.14256731 0.1377583  0.14647464 0.16115216 0.17092048\n",
      " 0.16961803 0.181866   0.17257358 0.16904195 0.18149029 0.16385723\n",
      " 0.16105197 0.15757044 0.16568566 0.17232311 0.17392611 0.18407013\n",
      " 0.18146525 0.18169067 0.17873513 0.17715717 0.18827802 0.18249217\n",
      " 0.17051972 0.16320601 0.16363181 0.1636819  0.17092048 0.17204759\n",
      " 0.1636819  0.16588604 0.15769568 0.14875391 0.14444584 0.13918597\n",
      " 0.13720726 0.13259862 0.1323732  0.13119599 0.15902317 0.17016907\n",
      " 0.16974327 0.17282405 0.16546024 0.16418284 0.16235441 0.1702943\n",
      " 0.17392611 0.16350657 0.15479023 0.15539136 0.16518472 0.16458359\n",
      " 0.15539136 0.15143394 0.14396994 0.13332498 0.14001252 0.14529743\n",
      " 0.1459737  0.14116468 0.14958046 0.14875391 0.14108954 0.13139637\n",
      " 0.12673763 0.14053851 0.12944271 0.11994991 0.1096556  0.1208516\n",
      " 0.13212273 0.13470257 0.14311835 0.14662492 0.15524108 0.1587226\n",
      " 0.16839073 0.17001879 0.17222292 0.1806387  0.17765811 0.16974327\n",
      " 0.16899186 0.17156211 0.17041811 0.16912359 0.1678696  0.16670588\n",
      " 0.16563621 0.16465363 0.16375008 0.16291744 0.1621469  0.16142908\n",
      " 0.16075453 0.1601142  0.15950015 0.15890571]\n",
      "15 day output [[0.1583257]]\n",
      "16 day input [0.14256731 0.1377583  0.14647464 0.16115216 0.17092048 0.16961803\n",
      " 0.181866   0.17257358 0.16904195 0.18149029 0.16385723 0.16105197\n",
      " 0.15757044 0.16568566 0.17232311 0.17392611 0.18407013 0.18146525\n",
      " 0.18169067 0.17873513 0.17715717 0.18827802 0.18249217 0.17051972\n",
      " 0.16320601 0.16363181 0.1636819  0.17092048 0.17204759 0.1636819\n",
      " 0.16588604 0.15769568 0.14875391 0.14444584 0.13918597 0.13720726\n",
      " 0.13259862 0.1323732  0.13119599 0.15902317 0.17016907 0.16974327\n",
      " 0.17282405 0.16546024 0.16418284 0.16235441 0.1702943  0.17392611\n",
      " 0.16350657 0.15479023 0.15539136 0.16518472 0.16458359 0.15539136\n",
      " 0.15143394 0.14396994 0.13332498 0.14001252 0.14529743 0.1459737\n",
      " 0.14116468 0.14958046 0.14875391 0.14108954 0.13139637 0.12673763\n",
      " 0.14053851 0.12944271 0.11994991 0.1096556  0.1208516  0.13212273\n",
      " 0.13470257 0.14311835 0.14662492 0.15524108 0.1587226  0.16839073\n",
      " 0.17001879 0.17222292 0.1806387  0.17765811 0.16974327 0.16899186\n",
      " 0.17156211 0.17041811 0.16912359 0.1678696  0.16670588 0.16563621\n",
      " 0.16465363 0.16375008 0.16291744 0.1621469  0.16142908 0.16075453\n",
      " 0.1601142  0.15950015 0.15890571 0.1583257 ]\n",
      "16 day output [[0.15775648]]\n",
      "17 day input [0.1377583  0.14647464 0.16115216 0.17092048 0.16961803 0.181866\n",
      " 0.17257358 0.16904195 0.18149029 0.16385723 0.16105197 0.15757044\n",
      " 0.16568566 0.17232311 0.17392611 0.18407013 0.18146525 0.18169067\n",
      " 0.17873513 0.17715717 0.18827802 0.18249217 0.17051972 0.16320601\n",
      " 0.16363181 0.1636819  0.17092048 0.17204759 0.1636819  0.16588604\n",
      " 0.15769568 0.14875391 0.14444584 0.13918597 0.13720726 0.13259862\n",
      " 0.1323732  0.13119599 0.15902317 0.17016907 0.16974327 0.17282405\n",
      " 0.16546024 0.16418284 0.16235441 0.1702943  0.17392611 0.16350657\n",
      " 0.15479023 0.15539136 0.16518472 0.16458359 0.15539136 0.15143394\n",
      " 0.14396994 0.13332498 0.14001252 0.14529743 0.1459737  0.14116468\n",
      " 0.14958046 0.14875391 0.14108954 0.13139637 0.12673763 0.14053851\n",
      " 0.12944271 0.11994991 0.1096556  0.1208516  0.13212273 0.13470257\n",
      " 0.14311835 0.14662492 0.15524108 0.1587226  0.16839073 0.17001879\n",
      " 0.17222292 0.1806387  0.17765811 0.16974327 0.16899186 0.17156211\n",
      " 0.17041811 0.16912359 0.1678696  0.16670588 0.16563621 0.16465363\n",
      " 0.16375008 0.16291744 0.1621469  0.16142908 0.16075453 0.1601142\n",
      " 0.15950015 0.15890571 0.1583257  0.15775648]\n",
      "17 day output [[0.15719542]]\n",
      "18 day input [0.14647464 0.16115216 0.17092048 0.16961803 0.181866   0.17257358\n",
      " 0.16904195 0.18149029 0.16385723 0.16105197 0.15757044 0.16568566\n",
      " 0.17232311 0.17392611 0.18407013 0.18146525 0.18169067 0.17873513\n",
      " 0.17715717 0.18827802 0.18249217 0.17051972 0.16320601 0.16363181\n",
      " 0.1636819  0.17092048 0.17204759 0.1636819  0.16588604 0.15769568\n",
      " 0.14875391 0.14444584 0.13918597 0.13720726 0.13259862 0.1323732\n",
      " 0.13119599 0.15902317 0.17016907 0.16974327 0.17282405 0.16546024\n",
      " 0.16418284 0.16235441 0.1702943  0.17392611 0.16350657 0.15479023\n",
      " 0.15539136 0.16518472 0.16458359 0.15539136 0.15143394 0.14396994\n",
      " 0.13332498 0.14001252 0.14529743 0.1459737  0.14116468 0.14958046\n",
      " 0.14875391 0.14108954 0.13139637 0.12673763 0.14053851 0.12944271\n",
      " 0.11994991 0.1096556  0.1208516  0.13212273 0.13470257 0.14311835\n",
      " 0.14662492 0.15524108 0.1587226  0.16839073 0.17001879 0.17222292\n",
      " 0.1806387  0.17765811 0.16974327 0.16899186 0.17156211 0.17041811\n",
      " 0.16912359 0.1678696  0.16670588 0.16563621 0.16465363 0.16375008\n",
      " 0.16291744 0.1621469  0.16142908 0.16075453 0.1601142  0.15950015\n",
      " 0.15890571 0.1583257  0.15775648 0.15719542]\n",
      "18 day output [[0.15664122]]\n",
      "19 day input [0.16115216 0.17092048 0.16961803 0.181866   0.17257358 0.16904195\n",
      " 0.18149029 0.16385723 0.16105197 0.15757044 0.16568566 0.17232311\n",
      " 0.17392611 0.18407013 0.18146525 0.18169067 0.17873513 0.17715717\n",
      " 0.18827802 0.18249217 0.17051972 0.16320601 0.16363181 0.1636819\n",
      " 0.17092048 0.17204759 0.1636819  0.16588604 0.15769568 0.14875391\n",
      " 0.14444584 0.13918597 0.13720726 0.13259862 0.1323732  0.13119599\n",
      " 0.15902317 0.17016907 0.16974327 0.17282405 0.16546024 0.16418284\n",
      " 0.16235441 0.1702943  0.17392611 0.16350657 0.15479023 0.15539136\n",
      " 0.16518472 0.16458359 0.15539136 0.15143394 0.14396994 0.13332498\n",
      " 0.14001252 0.14529743 0.1459737  0.14116468 0.14958046 0.14875391\n",
      " 0.14108954 0.13139637 0.12673763 0.14053851 0.12944271 0.11994991\n",
      " 0.1096556  0.1208516  0.13212273 0.13470257 0.14311835 0.14662492\n",
      " 0.15524108 0.1587226  0.16839073 0.17001879 0.17222292 0.1806387\n",
      " 0.17765811 0.16974327 0.16899186 0.17156211 0.17041811 0.16912359\n",
      " 0.1678696  0.16670588 0.16563621 0.16465363 0.16375008 0.16291744\n",
      " 0.1621469  0.16142908 0.16075453 0.1601142  0.15950015 0.15890571\n",
      " 0.1583257  0.15775648 0.15719542 0.15664122]\n",
      "19 day output [[0.15609333]]\n",
      "20 day input [0.17092048 0.16961803 0.181866   0.17257358 0.16904195 0.18149029\n",
      " 0.16385723 0.16105197 0.15757044 0.16568566 0.17232311 0.17392611\n",
      " 0.18407013 0.18146525 0.18169067 0.17873513 0.17715717 0.18827802\n",
      " 0.18249217 0.17051972 0.16320601 0.16363181 0.1636819  0.17092048\n",
      " 0.17204759 0.1636819  0.16588604 0.15769568 0.14875391 0.14444584\n",
      " 0.13918597 0.13720726 0.13259862 0.1323732  0.13119599 0.15902317\n",
      " 0.17016907 0.16974327 0.17282405 0.16546024 0.16418284 0.16235441\n",
      " 0.1702943  0.17392611 0.16350657 0.15479023 0.15539136 0.16518472\n",
      " 0.16458359 0.15539136 0.15143394 0.14396994 0.13332498 0.14001252\n",
      " 0.14529743 0.1459737  0.14116468 0.14958046 0.14875391 0.14108954\n",
      " 0.13139637 0.12673763 0.14053851 0.12944271 0.11994991 0.1096556\n",
      " 0.1208516  0.13212273 0.13470257 0.14311835 0.14662492 0.15524108\n",
      " 0.1587226  0.16839073 0.17001879 0.17222292 0.1806387  0.17765811\n",
      " 0.16974327 0.16899186 0.17156211 0.17041811 0.16912359 0.1678696\n",
      " 0.16670588 0.16563621 0.16465363 0.16375008 0.16291744 0.1621469\n",
      " 0.16142908 0.16075453 0.1601142  0.15950015 0.15890571 0.1583257\n",
      " 0.15775648 0.15719542 0.15664122 0.15609333]\n",
      "20 day output [[0.15555173]]\n",
      "21 day input [0.16961803 0.181866   0.17257358 0.16904195 0.18149029 0.16385723\n",
      " 0.16105197 0.15757044 0.16568566 0.17232311 0.17392611 0.18407013\n",
      " 0.18146525 0.18169067 0.17873513 0.17715717 0.18827802 0.18249217\n",
      " 0.17051972 0.16320601 0.16363181 0.1636819  0.17092048 0.17204759\n",
      " 0.1636819  0.16588604 0.15769568 0.14875391 0.14444584 0.13918597\n",
      " 0.13720726 0.13259862 0.1323732  0.13119599 0.15902317 0.17016907\n",
      " 0.16974327 0.17282405 0.16546024 0.16418284 0.16235441 0.1702943\n",
      " 0.17392611 0.16350657 0.15479023 0.15539136 0.16518472 0.16458359\n",
      " 0.15539136 0.15143394 0.14396994 0.13332498 0.14001252 0.14529743\n",
      " 0.1459737  0.14116468 0.14958046 0.14875391 0.14108954 0.13139637\n",
      " 0.12673763 0.14053851 0.12944271 0.11994991 0.1096556  0.1208516\n",
      " 0.13212273 0.13470257 0.14311835 0.14662492 0.15524108 0.1587226\n",
      " 0.16839073 0.17001879 0.17222292 0.1806387  0.17765811 0.16974327\n",
      " 0.16899186 0.17156211 0.17041811 0.16912359 0.1678696  0.16670588\n",
      " 0.16563621 0.16465363 0.16375008 0.16291744 0.1621469  0.16142908\n",
      " 0.16075453 0.1601142  0.15950015 0.15890571 0.1583257  0.15775648\n",
      " 0.15719542 0.15664122 0.15609333 0.15555173]\n"
     ]
    },
    {
     "name": "stdout",
     "output_type": "stream",
     "text": [
      "21 day output [[0.1550169]]\n",
      "22 day input [0.181866   0.17257358 0.16904195 0.18149029 0.16385723 0.16105197\n",
      " 0.15757044 0.16568566 0.17232311 0.17392611 0.18407013 0.18146525\n",
      " 0.18169067 0.17873513 0.17715717 0.18827802 0.18249217 0.17051972\n",
      " 0.16320601 0.16363181 0.1636819  0.17092048 0.17204759 0.1636819\n",
      " 0.16588604 0.15769568 0.14875391 0.14444584 0.13918597 0.13720726\n",
      " 0.13259862 0.1323732  0.13119599 0.15902317 0.17016907 0.16974327\n",
      " 0.17282405 0.16546024 0.16418284 0.16235441 0.1702943  0.17392611\n",
      " 0.16350657 0.15479023 0.15539136 0.16518472 0.16458359 0.15539136\n",
      " 0.15143394 0.14396994 0.13332498 0.14001252 0.14529743 0.1459737\n",
      " 0.14116468 0.14958046 0.14875391 0.14108954 0.13139637 0.12673763\n",
      " 0.14053851 0.12944271 0.11994991 0.1096556  0.1208516  0.13212273\n",
      " 0.13470257 0.14311835 0.14662492 0.15524108 0.1587226  0.16839073\n",
      " 0.17001879 0.17222292 0.1806387  0.17765811 0.16974327 0.16899186\n",
      " 0.17156211 0.17041811 0.16912359 0.1678696  0.16670588 0.16563621\n",
      " 0.16465363 0.16375008 0.16291744 0.1621469  0.16142908 0.16075453\n",
      " 0.1601142  0.15950015 0.15890571 0.1583257  0.15775648 0.15719542\n",
      " 0.15664122 0.15609333 0.15555173 0.1550169 ]\n",
      "22 day output [[0.15448943]]\n",
      "23 day input [0.17257358 0.16904195 0.18149029 0.16385723 0.16105197 0.15757044\n",
      " 0.16568566 0.17232311 0.17392611 0.18407013 0.18146525 0.18169067\n",
      " 0.17873513 0.17715717 0.18827802 0.18249217 0.17051972 0.16320601\n",
      " 0.16363181 0.1636819  0.17092048 0.17204759 0.1636819  0.16588604\n",
      " 0.15769568 0.14875391 0.14444584 0.13918597 0.13720726 0.13259862\n",
      " 0.1323732  0.13119599 0.15902317 0.17016907 0.16974327 0.17282405\n",
      " 0.16546024 0.16418284 0.16235441 0.1702943  0.17392611 0.16350657\n",
      " 0.15479023 0.15539136 0.16518472 0.16458359 0.15539136 0.15143394\n",
      " 0.14396994 0.13332498 0.14001252 0.14529743 0.1459737  0.14116468\n",
      " 0.14958046 0.14875391 0.14108954 0.13139637 0.12673763 0.14053851\n",
      " 0.12944271 0.11994991 0.1096556  0.1208516  0.13212273 0.13470257\n",
      " 0.14311835 0.14662492 0.15524108 0.1587226  0.16839073 0.17001879\n",
      " 0.17222292 0.1806387  0.17765811 0.16974327 0.16899186 0.17156211\n",
      " 0.17041811 0.16912359 0.1678696  0.16670588 0.16563621 0.16465363\n",
      " 0.16375008 0.16291744 0.1621469  0.16142908 0.16075453 0.1601142\n",
      " 0.15950015 0.15890571 0.1583257  0.15775648 0.15719542 0.15664122\n",
      " 0.15609333 0.15555173 0.1550169  0.15448943]\n",
      "23 day output [[0.15397009]]\n",
      "24 day input [0.16904195 0.18149029 0.16385723 0.16105197 0.15757044 0.16568566\n",
      " 0.17232311 0.17392611 0.18407013 0.18146525 0.18169067 0.17873513\n",
      " 0.17715717 0.18827802 0.18249217 0.17051972 0.16320601 0.16363181\n",
      " 0.1636819  0.17092048 0.17204759 0.1636819  0.16588604 0.15769568\n",
      " 0.14875391 0.14444584 0.13918597 0.13720726 0.13259862 0.1323732\n",
      " 0.13119599 0.15902317 0.17016907 0.16974327 0.17282405 0.16546024\n",
      " 0.16418284 0.16235441 0.1702943  0.17392611 0.16350657 0.15479023\n",
      " 0.15539136 0.16518472 0.16458359 0.15539136 0.15143394 0.14396994\n",
      " 0.13332498 0.14001252 0.14529743 0.1459737  0.14116468 0.14958046\n",
      " 0.14875391 0.14108954 0.13139637 0.12673763 0.14053851 0.12944271\n",
      " 0.11994991 0.1096556  0.1208516  0.13212273 0.13470257 0.14311835\n",
      " 0.14662492 0.15524108 0.1587226  0.16839073 0.17001879 0.17222292\n",
      " 0.1806387  0.17765811 0.16974327 0.16899186 0.17156211 0.17041811\n",
      " 0.16912359 0.1678696  0.16670588 0.16563621 0.16465363 0.16375008\n",
      " 0.16291744 0.1621469  0.16142908 0.16075453 0.1601142  0.15950015\n",
      " 0.15890571 0.1583257  0.15775648 0.15719542 0.15664122 0.15609333\n",
      " 0.15555173 0.1550169  0.15448943 0.15397009]\n",
      "24 day output [[0.15345961]]\n",
      "25 day input [0.18149029 0.16385723 0.16105197 0.15757044 0.16568566 0.17232311\n",
      " 0.17392611 0.18407013 0.18146525 0.18169067 0.17873513 0.17715717\n",
      " 0.18827802 0.18249217 0.17051972 0.16320601 0.16363181 0.1636819\n",
      " 0.17092048 0.17204759 0.1636819  0.16588604 0.15769568 0.14875391\n",
      " 0.14444584 0.13918597 0.13720726 0.13259862 0.1323732  0.13119599\n",
      " 0.15902317 0.17016907 0.16974327 0.17282405 0.16546024 0.16418284\n",
      " 0.16235441 0.1702943  0.17392611 0.16350657 0.15479023 0.15539136\n",
      " 0.16518472 0.16458359 0.15539136 0.15143394 0.14396994 0.13332498\n",
      " 0.14001252 0.14529743 0.1459737  0.14116468 0.14958046 0.14875391\n",
      " 0.14108954 0.13139637 0.12673763 0.14053851 0.12944271 0.11994991\n",
      " 0.1096556  0.1208516  0.13212273 0.13470257 0.14311835 0.14662492\n",
      " 0.15524108 0.1587226  0.16839073 0.17001879 0.17222292 0.1806387\n",
      " 0.17765811 0.16974327 0.16899186 0.17156211 0.17041811 0.16912359\n",
      " 0.1678696  0.16670588 0.16563621 0.16465363 0.16375008 0.16291744\n",
      " 0.1621469  0.16142908 0.16075453 0.1601142  0.15950015 0.15890571\n",
      " 0.1583257  0.15775648 0.15719542 0.15664122 0.15609333 0.15555173\n",
      " 0.1550169  0.15448943 0.15397009 0.15345961]\n",
      "25 day output [[0.15295863]]\n",
      "26 day input [0.16385723 0.16105197 0.15757044 0.16568566 0.17232311 0.17392611\n",
      " 0.18407013 0.18146525 0.18169067 0.17873513 0.17715717 0.18827802\n",
      " 0.18249217 0.17051972 0.16320601 0.16363181 0.1636819  0.17092048\n",
      " 0.17204759 0.1636819  0.16588604 0.15769568 0.14875391 0.14444584\n",
      " 0.13918597 0.13720726 0.13259862 0.1323732  0.13119599 0.15902317\n",
      " 0.17016907 0.16974327 0.17282405 0.16546024 0.16418284 0.16235441\n",
      " 0.1702943  0.17392611 0.16350657 0.15479023 0.15539136 0.16518472\n",
      " 0.16458359 0.15539136 0.15143394 0.14396994 0.13332498 0.14001252\n",
      " 0.14529743 0.1459737  0.14116468 0.14958046 0.14875391 0.14108954\n",
      " 0.13139637 0.12673763 0.14053851 0.12944271 0.11994991 0.1096556\n",
      " 0.1208516  0.13212273 0.13470257 0.14311835 0.14662492 0.15524108\n",
      " 0.1587226  0.16839073 0.17001879 0.17222292 0.1806387  0.17765811\n",
      " 0.16974327 0.16899186 0.17156211 0.17041811 0.16912359 0.1678696\n",
      " 0.16670588 0.16563621 0.16465363 0.16375008 0.16291744 0.1621469\n",
      " 0.16142908 0.16075453 0.1601142  0.15950015 0.15890571 0.1583257\n",
      " 0.15775648 0.15719542 0.15664122 0.15609333 0.15555173 0.1550169\n",
      " 0.15448943 0.15397009 0.15345961 0.15295863]\n",
      "26 day output [[0.15246752]]\n",
      "27 day input [0.16105197 0.15757044 0.16568566 0.17232311 0.17392611 0.18407013\n",
      " 0.18146525 0.18169067 0.17873513 0.17715717 0.18827802 0.18249217\n",
      " 0.17051972 0.16320601 0.16363181 0.1636819  0.17092048 0.17204759\n",
      " 0.1636819  0.16588604 0.15769568 0.14875391 0.14444584 0.13918597\n",
      " 0.13720726 0.13259862 0.1323732  0.13119599 0.15902317 0.17016907\n",
      " 0.16974327 0.17282405 0.16546024 0.16418284 0.16235441 0.1702943\n",
      " 0.17392611 0.16350657 0.15479023 0.15539136 0.16518472 0.16458359\n",
      " 0.15539136 0.15143394 0.14396994 0.13332498 0.14001252 0.14529743\n",
      " 0.1459737  0.14116468 0.14958046 0.14875391 0.14108954 0.13139637\n",
      " 0.12673763 0.14053851 0.12944271 0.11994991 0.1096556  0.1208516\n",
      " 0.13212273 0.13470257 0.14311835 0.14662492 0.15524108 0.1587226\n",
      " 0.16839073 0.17001879 0.17222292 0.1806387  0.17765811 0.16974327\n",
      " 0.16899186 0.17156211 0.17041811 0.16912359 0.1678696  0.16670588\n",
      " 0.16563621 0.16465363 0.16375008 0.16291744 0.1621469  0.16142908\n",
      " 0.16075453 0.1601142  0.15950015 0.15890571 0.1583257  0.15775648\n",
      " 0.15719542 0.15664122 0.15609333 0.15555173 0.1550169  0.15448943\n",
      " 0.15397009 0.15345961 0.15295863 0.15246752]\n",
      "27 day output [[0.15198669]]\n",
      "28 day input [0.15757044 0.16568566 0.17232311 0.17392611 0.18407013 0.18146525\n",
      " 0.18169067 0.17873513 0.17715717 0.18827802 0.18249217 0.17051972\n",
      " 0.16320601 0.16363181 0.1636819  0.17092048 0.17204759 0.1636819\n",
      " 0.16588604 0.15769568 0.14875391 0.14444584 0.13918597 0.13720726\n",
      " 0.13259862 0.1323732  0.13119599 0.15902317 0.17016907 0.16974327\n",
      " 0.17282405 0.16546024 0.16418284 0.16235441 0.1702943  0.17392611\n",
      " 0.16350657 0.15479023 0.15539136 0.16518472 0.16458359 0.15539136\n",
      " 0.15143394 0.14396994 0.13332498 0.14001252 0.14529743 0.1459737\n",
      " 0.14116468 0.14958046 0.14875391 0.14108954 0.13139637 0.12673763\n",
      " 0.14053851 0.12944271 0.11994991 0.1096556  0.1208516  0.13212273\n",
      " 0.13470257 0.14311835 0.14662492 0.15524108 0.1587226  0.16839073\n",
      " 0.17001879 0.17222292 0.1806387  0.17765811 0.16974327 0.16899186\n",
      " 0.17156211 0.17041811 0.16912359 0.1678696  0.16670588 0.16563621\n",
      " 0.16465363 0.16375008 0.16291744 0.1621469  0.16142908 0.16075453\n",
      " 0.1601142  0.15950015 0.15890571 0.1583257  0.15775648 0.15719542\n",
      " 0.15664122 0.15609333 0.15555173 0.1550169  0.15448943 0.15397009\n",
      " 0.15345961 0.15295863 0.15246752 0.15198669]\n",
      "28 day output [[0.15151626]]\n",
      "29 day input [0.16568566 0.17232311 0.17392611 0.18407013 0.18146525 0.18169067\n",
      " 0.17873513 0.17715717 0.18827802 0.18249217 0.17051972 0.16320601\n",
      " 0.16363181 0.1636819  0.17092048 0.17204759 0.1636819  0.16588604\n",
      " 0.15769568 0.14875391 0.14444584 0.13918597 0.13720726 0.13259862\n",
      " 0.1323732  0.13119599 0.15902317 0.17016907 0.16974327 0.17282405\n",
      " 0.16546024 0.16418284 0.16235441 0.1702943  0.17392611 0.16350657\n",
      " 0.15479023 0.15539136 0.16518472 0.16458359 0.15539136 0.15143394\n",
      " 0.14396994 0.13332498 0.14001252 0.14529743 0.1459737  0.14116468\n",
      " 0.14958046 0.14875391 0.14108954 0.13139637 0.12673763 0.14053851\n",
      " 0.12944271 0.11994991 0.1096556  0.1208516  0.13212273 0.13470257\n",
      " 0.14311835 0.14662492 0.15524108 0.1587226  0.16839073 0.17001879\n",
      " 0.17222292 0.1806387  0.17765811 0.16974327 0.16899186 0.17156211\n",
      " 0.17041811 0.16912359 0.1678696  0.16670588 0.16563621 0.16465363\n",
      " 0.16375008 0.16291744 0.1621469  0.16142908 0.16075453 0.1601142\n",
      " 0.15950015 0.15890571 0.1583257  0.15775648 0.15719542 0.15664122\n",
      " 0.15609333 0.15555173 0.1550169  0.15448943 0.15397009 0.15345961\n",
      " 0.15295863 0.15246752 0.15198669 0.15151626]\n",
      "29 day output [[0.15105629]]\n",
      "[[0.1715621054172516], [0.17041811347007751], [0.1691235899925232], [0.16786959767341614], [0.1667058765888214], [0.16563621163368225], [0.16465362906455994], [0.1637500822544098], [0.16291743516921997], [0.1621468961238861], [0.16142907738685608], [0.16075453162193298], [0.16011419892311096], [0.1595001518726349], [0.15890571475028992], [0.1583257019519806], [0.1577564775943756], [0.15719541907310486], [0.15664121508598328], [0.15609332919120789], [0.1555517315864563], [0.15501689910888672], [0.1544894278049469], [0.15397009253501892], [0.1534596085548401], [0.15295863151550293], [0.1524675190448761], [0.15198668837547302], [0.15151625871658325], [0.15105628967285156]]\n"
     ]
    }
   ],
   "source": [
    "# demonstrate prediction for next 10 days\n",
    "from numpy import array\n",
    "\n",
    "lst_output=[]\n",
    "n_steps=100\n",
    "i=0\n",
    "while(i<30):\n",
    "    \n",
    "    if(len(temp_input)>100):\n",
    "        #print(temp_input)\n",
    "        x_input=np.array(temp_input[1:])\n",
    "        print(\"{} day input {}\".format(i,x_input))\n",
    "        x_input=x_input.reshape(1,-1)\n",
    "        x_input = x_input.reshape((1, n_steps, 1))\n",
    "        #print(x_input)\n",
    "        yhat = model.predict(x_input, verbose=0)\n",
    "        print(\"{} day output {}\".format(i,yhat))\n",
    "        temp_input.extend(yhat[0].tolist())\n",
    "        temp_input=temp_input[1:]\n",
    "        #print(temp_input)\n",
    "        lst_output.extend(yhat.tolist())\n",
    "        i=i+1\n",
    "    else:\n",
    "        x_input = x_input.reshape((1, n_steps,1))\n",
    "        yhat = model.predict(x_input, verbose=0)\n",
    "        print(yhat[0])\n",
    "        temp_input.extend(yhat[0].tolist())\n",
    "        print(len(temp_input))\n",
    "        lst_output.extend(yhat.tolist())\n",
    "        i=i+1\n",
    "    \n",
    "\n",
    "print(lst_output)"
   ]
  },
  {
   "cell_type": "code",
   "execution_count": 42,
   "id": "53b5c5ad",
   "metadata": {},
   "outputs": [],
   "source": [
    "day_new=np.arange(1,101)\n",
    "day_pred=np.arange(101,131)"
   ]
  },
  {
   "cell_type": "code",
   "execution_count": 43,
   "id": "8aa5b1b1",
   "metadata": {},
   "outputs": [],
   "source": [
    "import matplotlib.pyplot as plt"
   ]
  },
  {
   "cell_type": "code",
   "execution_count": 44,
   "id": "995db669",
   "metadata": {},
   "outputs": [
    {
     "data": {
      "text/plain": [
       "1258"
      ]
     },
     "execution_count": 44,
     "metadata": {},
     "output_type": "execute_result"
    }
   ],
   "source": [
    "len(df1)\n"
   ]
  },
  {
   "cell_type": "code",
   "execution_count": 45,
   "id": "4f31b4dd",
   "metadata": {},
   "outputs": [
    {
     "data": {
      "text/plain": [
       "[<matplotlib.lines.Line2D at 0x1ba07f7d550>]"
      ]
     },
     "execution_count": 45,
     "metadata": {},
     "output_type": "execute_result"
    },
    {
     "data": {
      "image/png": "[encoded data removed]",
      "text/plain": [
       "<Figure size 432x288 with 1 Axes>"
      ]
     },
     "metadata": {},
     "output_type": "display_data"
    }
   ],
   "source": [
    "plt.plot(day_new,scaler.inverse_transform(df1[1158:]))\n",
    "plt.plot(day_pred,scaler.inverse_transform(lst_output))"
   ]
  },
  {
   "cell_type": "code",
   "execution_count": 46,
   "id": "6029e71b",
   "metadata": {},
   "outputs": [
    {
     "data": {
      "text/plain": [
       "[<matplotlib.lines.Line2D at 0x1ba09059c18>]"
      ]
     },
     "execution_count": 46,
     "metadata": {},
     "output_type": "execute_result"
    },
    {
     "data": {
      "image/png": "[encoded data removed]",
      "text/plain": [
       "<Figure size 432x288 with 1 Axes>"
      ]
     },
     "metadata": {},
     "output_type": "display_data"
    }
   ],
   "source": [
    "df3=df1.tolist()\n",
    "df3.extend(lst_output)\n",
    "plt.plot(df3[1200:])"
   ]
  },
  {
   "cell_type": "code",
   "execution_count": 47,
   "id": "328027a3",
   "metadata": {},
   "outputs": [],
   "source": [
    "df3=scaler.inverse_transform(df3).tolist()\n"
   ]
  },
  {
   "cell_type": "code",
   "execution_count": 48,
   "id": "f49adc9c",
   "metadata": {},
   "outputs": [
    {
     "data": {
      "text/plain": [
       "[<matplotlib.lines.Line2D at 0x1ba090c0128>]"
      ]
     },
     "execution_count": 48,
     "metadata": {},
     "output_type": "execute_result"
    },
    {
     "data": {
      "image/png": "[encoded data removed]",
      "text/plain": [
       "<Figure size 432x288 with 1 Axes>"
      ]
     },
     "metadata": {},
     "output_type": "display_data"
    }
   ],
   "source": [
    "plt.plot(df3)\n"
   ]
  },
  {
   "cell_type": "code",
   "execution_count": null,
   "id": "7c22c049",
   "metadata": {},
   "outputs": [],
   "source": []
  }
 ],
 "metadata": {
  "kernelspec": {
   "display_name": "Python 3",
   "language": "python",
   "name": "python3"
  },
  "language_info": {
   "codemirror_mode": {
    "name": "ipython",
    "version": 3
   },
   "file_extension": ".py",
   "mimetype": "text/x-python",
   "name": "python",
   "nbconvert_exporter": "python",
   "pygments_lexer": "ipython3",
   "version": "3.6.5"
  }
 },
 "nbformat": 4,
 "nbformat_minor": 5
}
