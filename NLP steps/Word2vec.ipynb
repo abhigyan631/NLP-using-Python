{
 "cells": [
  {
   "cell_type": "code",
   "execution_count": 2,
   "id": "57f7139c",
   "metadata": {},
   "outputs": [],
   "source": [
    "#https://github.com/krishnaik06/Natural-Language-Processing/blob/master/word2vec.py\n",
    "\n",
    "import nltk\n",
    "\n",
    "from gensim.models import Word2Vec\n",
    "from nltk.corpus import stopwords\n",
    "\n",
    "import re\n",
    "\n"
   ]
  },
  {
   "cell_type": "code",
   "execution_count": 3,
   "id": "a2f7b171",
   "metadata": {},
   "outputs": [],
   "source": [
    "paragraph = \"\"\"I have three visions for India. In 3000 years of our history, people from all over \n",
    "               the world have come and invaded us, captured our lands, conquered our minds. \n",
    "               From Alexander onwards, the Greeks, the Turks, the Moguls, the Portuguese, the British,\n",
    "               the French, the Dutch, all of them came and looted us, took over what was ours. \n",
    "               Yet we have not done this to any other nation. We have not conquered anyone. \n",
    "               We have not grabbed their land, their culture, \n",
    "               their history and tried to enforce our way of life on them. \n",
    "               Why? Because we respect the freedom of others.That is why my \n",
    "               first vision is that of freedom. I believe that India got its first vision of \n",
    "               this in 1857, when we started the War of Independence. It is this freedom that\n",
    "               we must protect and nurture and build on. If we are not free, no one will respect us.\n",
    "               My second vision for India’s development. For fifty years we have been a developing nation.\n",
    "               It is time we see ourselves as a developed nation. We are among the top 5 nations of the world\n",
    "               in terms of GDP. We have a 10 percent growth rate in most areas. Our poverty levels are falling.\n",
    "               Our achievements are being globally recognised today. Yet we lack the self-confidence to\n",
    "               see ourselves as a developed nation, self-reliant and self-assured. Isn’t this incorrect?\n",
    "               I have a third vision. India must stand up to the world. Because I believe that unless India \n",
    "               stands up to the world, no one will respect us. Only strength respects strength. We must be \n",
    "               strong not only as a military power but also as an economic power. Both must go hand-in-hand. \n",
    "               My good fortune was to have worked with three great minds. Dr. Vikram Sarabhai of the Dept. of \n",
    "               space, Professor Satish Dhawan, who succeeded him and Dr. Brahm Prakash, father of nuclear material.\n",
    "               I was lucky to have worked with all three of them closely and consider this the great opportunity of my life. \n",
    "               I see four milestones in my career\"\"\"\n",
    "\n",
    "\n",
    "\n",
    "# Preprocessing the data\n",
    "text = re.sub(r'\\[[0-9]*\\]',' ',paragraph)\n",
    "text = re.sub(r'\\s+',' ',text)\n",
    "text = text.lower()\n",
    "text = re.sub(r'\\d',' ',text)\n",
    "text = re.sub(r'\\s+',' ',text)\n",
    "\n",
    "# Preparing the dataset\n",
    "sentences = nltk.sent_tokenize(text)\n",
    "\n",
    "sentences = [nltk.word_tokenize(sentence) for sentence in sentences]\n",
    "\n",
    "for i in range(len(sentences)):\n",
    "    sentences[i] = [word for word in sentences[i] if word not in stopwords.words('english')]\n",
    "    \n",
    "    \n"
   ]
  },
  {
   "cell_type": "code",
   "execution_count": 4,
   "id": "34d77c75",
   "metadata": {},
   "outputs": [],
   "source": [
    "# Training the Word2Vec model\n",
    "model = Word2Vec(sentences, min_count=1)\n",
    "\n",
    "\n",
    "words = model.wv.vocab\n",
    "\n",
    "# Finding Word Vectors\n",
    "vector = model.wv['war']\n",
    "\n",
    "# Most similar words\n",
    "similar = model.wv.most_similar('vikram')"
   ]
  },
  {
   "cell_type": "code",
   "execution_count": 5,
   "id": "7abfee10",
   "metadata": {},
   "outputs": [
    {
     "data": {
      "text/plain": [
       "<gensim.models.word2vec.Word2Vec at 0x21dda8bec50>"
      ]
     },
     "execution_count": 5,
     "metadata": {},
     "output_type": "execute_result"
    }
   ],
   "source": [
    "model"
   ]
  },
  {
   "cell_type": "code",
   "execution_count": 8,
   "id": "b25a57b1",
   "metadata": {},
   "outputs": [
    {
     "data": {
      "text/plain": [
       "[('’', 0.20419180393218994),\n",
       " ('greeks', 0.1947997361421585),\n",
       " ('professor', 0.18359896540641785),\n",
       " ('stand', 0.17680245637893677),\n",
       " ('poverty', 0.16134551167488098),\n",
       " ('self-confidence', 0.15637356042861938),\n",
       " ('great', 0.1544070839881897),\n",
       " ('british', 0.1525755673646927),\n",
       " ('prakash', 0.14891862869262695),\n",
       " ('moguls', 0.14453381299972534)]"
      ]
     },
     "execution_count": 8,
     "metadata": {},
     "output_type": "execute_result"
    }
   ],
   "source": [
    "similar"
   ]
  },
  {
   "cell_type": "code",
   "execution_count": 10,
   "id": "f00d4732",
   "metadata": {},
   "outputs": [
    {
     "name": "stdout",
     "output_type": "stream",
     "text": [
      "[-4.3176236e-03 -3.6364996e-03  3.4041200e-03 -4.7524874e-03\n",
      " -9.4828912e-04 -7.0904655e-04  4.4184932e-03  3.5602909e-03\n",
      "  1.1973678e-03 -3.5295982e-03  8.1322994e-04  3.0224004e-03\n",
      "  3.7236800e-03  7.6024386e-04 -1.3202980e-04  3.6573072e-03\n",
      " -3.3060052e-03  9.5024658e-04  5.2461826e-04 -2.8431041e-03\n",
      " -7.2455272e-04 -3.6754325e-04  2.5076128e-03 -3.5637894e-03\n",
      " -1.4757881e-03 -3.3040349e-03  2.2226460e-03  4.8306831e-03\n",
      " -2.4070488e-03  3.1349568e-03 -2.3589719e-03 -4.3850471e-03\n",
      " -8.8692625e-04  6.3483999e-04 -4.8235548e-03  1.1094755e-03\n",
      " -1.1754828e-03  4.7366591e-03 -4.6197074e-03  3.2922176e-03\n",
      "  7.7562389e-04  2.7336160e-04 -2.7642254e-04  2.4469418e-03\n",
      "  3.1366060e-03  3.4796918e-04 -3.1299863e-03 -8.8214822e-04\n",
      " -2.2798155e-03 -3.4114423e-03  1.2789523e-04  4.3400945e-03\n",
      " -3.7890451e-03 -3.6829205e-03  1.3902187e-03  7.4855183e-05\n",
      "  1.4523402e-03  2.5666601e-03 -7.2131783e-04  5.7236600e-04\n",
      "  2.9685786e-03 -2.6864563e-03  1.9976897e-03  4.9172626e-03\n",
      "  4.1053458e-03  4.7269324e-03  3.6636746e-04  2.2820449e-03\n",
      "  1.1692026e-03 -2.5146687e-04  3.8240992e-03  2.3484067e-03\n",
      " -3.3770683e-03 -9.4666658e-04  1.9935707e-03 -2.2032908e-03\n",
      " -1.9159811e-03  1.3270446e-03 -1.9589704e-03  1.4170797e-03\n",
      "  2.3739969e-03  1.8750150e-03  4.6507912e-03 -3.7303057e-03\n",
      "  4.5848290e-05  3.6926053e-03 -1.9539194e-03 -2.5090019e-03\n",
      "  2.6728238e-03  3.6872479e-03  1.8422883e-03 -4.5991414e-03\n",
      "  1.1516714e-03 -4.0704189e-04  4.8259050e-03  2.5676540e-04\n",
      "  1.1163531e-03  6.8904970e-05 -7.9780939e-04 -2.9090694e-03]\n"
     ]
    }
   ],
   "source": [
    "print(vector)"
   ]
  },
  {
   "cell_type": "code",
   "execution_count": null,
   "id": "62fe28ea",
   "metadata": {},
   "outputs": [],
   "source": []
  },
  {
   "cell_type": "code",
   "execution_count": null,
   "id": "8298fcc8",
   "metadata": {},
   "outputs": [],
   "source": []
  }
 ],
 "metadata": {
  "kernelspec": {
   "display_name": "Python 3",
   "language": "python",
   "name": "python3"
  },
  "language_info": {
   "codemirror_mode": {
    "name": "ipython",
    "version": 3
   },
   "file_extension": ".py",
   "mimetype": "text/x-python",
   "name": "python",
   "nbconvert_exporter": "python",
   "pygments_lexer": "ipython3",
   "version": "3.6.5"
  }
 },
 "nbformat": 4,
 "nbformat_minor": 5
}
